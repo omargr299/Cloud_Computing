{
  "nbformat": 4,
  "nbformat_minor": 0,
  "metadata": {
    "colab": {
      "provenance": [],
      "authorship_tag": "ABX9TyNJf36aOQDTaLYWoVEyXJ4b",
      "include_colab_link": true
    },
    "kernelspec": {
      "name": "python3",
      "display_name": "Python 3"
    },
    "language_info": {
      "name": "python"
    }
  },
  "cells": [
    {
      "cell_type": "markdown",
      "metadata": {
        "id": "view-in-github",
        "colab_type": "text"
      },
      "source": [
        "<a href=\"https://colab.research.google.com/github/omargr299/cloud_computing/blob/main/laboratorio1_1.ipynb\" target=\"_parent\"><img src=\"https://colab.research.google.com/assets/colab-badge.svg\" alt=\"Open In Colab\"/></a>"
      ]
    },
    {
      "cell_type": "markdown",
      "source": [
        "# Basic maths\n",
        "\n",
        "---\n",
        "\n"
      ],
      "metadata": {
        "id": "_2YDiVzsSfX-"
      }
    },
    {
      "cell_type": "code",
      "execution_count": null,
      "metadata": {
        "colab": {
          "base_uri": "https://localhost:8080/"
        },
        "id": "RTjZTjloSSOi",
        "outputId": "61f8fa6e-fb0c-4fde-abae-ae4b56933d55"
      },
      "outputs": [
        {
          "output_type": "execute_result",
          "data": {
            "text/plain": [
              "10"
            ]
          },
          "metadata": {},
          "execution_count": 1
        }
      ],
      "source": [
        "3 + 7"
      ]
    },
    {
      "cell_type": "code",
      "source": [
        "10 / 4"
      ],
      "metadata": {
        "colab": {
          "base_uri": "https://localhost:8080/"
        },
        "id": "jij2YjE8SX6i",
        "outputId": "4863c721-2b30-483a-8c50-dd583408770c"
      },
      "execution_count": null,
      "outputs": [
        {
          "output_type": "execute_result",
          "data": {
            "text/plain": [
              "2.5"
            ]
          },
          "metadata": {},
          "execution_count": 2
        }
      ]
    },
    {
      "cell_type": "code",
      "source": [
        "2 ** 1024"
      ],
      "metadata": {
        "colab": {
          "base_uri": "https://localhost:8080/"
        },
        "id": "u7SRrLiNSZq6",
        "outputId": "0236749c-34c9-4d62-ee85-9fe1f85f5987"
      },
      "execution_count": null,
      "outputs": [
        {
          "output_type": "execute_result",
          "data": {
            "text/plain": [
              "179769313486231590772930519078902473361797697894230657273430081157732675805500963132708477322407536021120113879871393357658789768814416622492847430639474124377767893424865485276302219601246094119453082952085005768838150682342462881473913110540827237163350510684586298239947245938479716304835356329624224137216"
            ]
          },
          "metadata": {},
          "execution_count": 3
        }
      ]
    },
    {
      "cell_type": "markdown",
      "source": [
        "# Factorial\n",
        "\n",
        "---\n",
        "\n"
      ],
      "metadata": {
        "id": "BavF6xkiSpjj"
      }
    },
    {
      "cell_type": "code",
      "source": [
        "from math import factorial"
      ],
      "metadata": {
        "id": "S6BzUzlzSxHR"
      },
      "execution_count": null,
      "outputs": []
    },
    {
      "cell_type": "code",
      "source": [
        "factorial(5)"
      ],
      "metadata": {
        "colab": {
          "base_uri": "https://localhost:8080/"
        },
        "id": "XbSZDF4NS3VD",
        "outputId": "1d605e70-afc7-4c34-ae7e-a95d66586c26"
      },
      "execution_count": null,
      "outputs": [
        {
          "output_type": "execute_result",
          "data": {
            "text/plain": [
              "120"
            ]
          },
          "metadata": {},
          "execution_count": 5
        }
      ]
    },
    {
      "cell_type": "markdown",
      "source": [
        "# Name and namesapces\n",
        "\n",
        "---\n",
        "\n"
      ],
      "metadata": {
        "id": "UKzwtNA-S-33"
      }
    },
    {
      "cell_type": "code",
      "source": [
        "n = 3  # integer number"
      ],
      "metadata": {
        "id": "Q67FsRizTJcB"
      },
      "execution_count": null,
      "outputs": []
    },
    {
      "cell_type": "code",
      "source": [
        "address = \"221b Baker Street, NW1 6XE, London\"  # Sherlock Holmes'"
      ],
      "metadata": {
        "id": "T6Yzt_qdTNzY"
      },
      "execution_count": null,
      "outputs": []
    },
    {
      "cell_type": "code",
      "source": [
        "employee = {\n",
        "    'age': 45,\n",
        "    'role': 'CTO',\n",
        "    'SSN': 'AB1234567',\n",
        "}"
      ],
      "metadata": {
        "id": "LGGqkedATQOO"
      },
      "execution_count": null,
      "outputs": []
    },
    {
      "cell_type": "code",
      "source": [
        "n, address, employee"
      ],
      "metadata": {
        "colab": {
          "base_uri": "https://localhost:8080/"
        },
        "id": "2reLR50STO5O",
        "outputId": "ac146baf-6b0c-416a-eb4a-10cb3e188eb1"
      },
      "execution_count": null,
      "outputs": [
        {
          "output_type": "execute_result",
          "data": {
            "text/plain": [
              "(3,\n",
              " '221b Baker Street, NW1 6XE, London',\n",
              " {'age': 45, 'role': 'CTO', 'SSN': 'AB1234567'})"
            ]
          },
          "metadata": {},
          "execution_count": 9
        }
      ]
    },
    {
      "cell_type": "code",
      "source": [
        "try:\n",
        "    print(another_name)\n",
        "except NameError:\n",
        "    print(\"NameError: name 'another_name' is not defined\")"
      ],
      "metadata": {
        "colab": {
          "base_uri": "https://localhost:8080/"
        },
        "id": "lBCrJBqgTZlu",
        "outputId": "d94b6872-8ea3-4bcf-efe6-0614a1652e91"
      },
      "execution_count": null,
      "outputs": [
        {
          "output_type": "stream",
          "name": "stdout",
          "text": [
            "NameError: name 'another_name' is not defined\n"
          ]
        }
      ]
    },
    {
      "cell_type": "markdown",
      "source": [
        "# Scopes\n",
        "\n",
        "\n",
        "---\n",
        "\n"
      ],
      "metadata": {
        "id": "ElhgyYupTrd6"
      }
    },
    {
      "cell_type": "markdown",
      "source": [
        "scope 1"
      ],
      "metadata": {
        "id": "AO01OSQbT0Pv"
      }
    },
    {
      "cell_type": "code",
      "source": [
        "# scopes1.py\n",
        "# Local versus Global\n",
        "# we define a function, called local\n",
        "def local():\n",
        "\n",
        "    m = 7\n",
        "\n",
        "    print(m)"
      ],
      "metadata": {
        "id": "JJZT_7T7TvwX"
      },
      "execution_count": null,
      "outputs": []
    },
    {
      "cell_type": "code",
      "source": [
        "# we define m within the global scope\n",
        "m = 5\n",
        "# we call, or `execute` the function local\n",
        "local()\n",
        "print(m)"
      ],
      "metadata": {
        "colab": {
          "base_uri": "https://localhost:8080/"
        },
        "id": "lhQ34THBT4ou",
        "outputId": "65460777-d599-47e9-936f-596462cc43e1"
      },
      "execution_count": null,
      "outputs": [
        {
          "output_type": "stream",
          "name": "stdout",
          "text": [
            "7\n",
            "5\n"
          ]
        }
      ]
    },
    {
      "cell_type": "markdown",
      "source": [
        "Scope 2"
      ],
      "metadata": {
        "id": "o8D96NwqT73L"
      }
    },
    {
      "cell_type": "code",
      "source": [
        "# scopes2.py\n",
        "# Local versus Global\n",
        "def local():\n",
        "    # m doesn't belong to the scope defined by the local function\n",
        "    # so Python will keep looking into the next enclosing scope.\n",
        "    # m is finally found in the global scope\n",
        "    print(m, 'printing from the local scope')"
      ],
      "metadata": {
        "id": "PpK7itRaUADE"
      },
      "execution_count": null,
      "outputs": []
    },
    {
      "cell_type": "code",
      "source": [
        "m = 5\n",
        "print(m, 'printing from the global scope')\n",
        "local()"
      ],
      "metadata": {
        "colab": {
          "base_uri": "https://localhost:8080/"
        },
        "id": "1A369VbgUCsM",
        "outputId": "2951f4cd-6a4a-41ce-d5e8-9ff62cf82482"
      },
      "execution_count": null,
      "outputs": [
        {
          "output_type": "stream",
          "name": "stdout",
          "text": [
            "5 printing from the global scope\n",
            "5 printing from the local scope\n"
          ]
        }
      ]
    },
    {
      "cell_type": "markdown",
      "source": [
        "Scope 3"
      ],
      "metadata": {
        "id": "bfPv5SB0UGFp"
      }
    },
    {
      "cell_type": "code",
      "source": [
        "# scopes3.py\n",
        "# Local, Enclosing and Global\n",
        "def enclosing_func():\n",
        "    m = 13"
      ],
      "metadata": {
        "id": "HsZ3UZbdUHbG"
      },
      "execution_count": null,
      "outputs": []
    },
    {
      "cell_type": "code",
      "source": [
        "def local():\n",
        "    # m doesn't belong to the scope defined by the local\n",
        "    # function so Python will keep looking into the next\n",
        "    # enclosing scope. This time m is found in the enclosing\n",
        "    # scope\n",
        "    print(m, 'printing from the local scope')"
      ],
      "metadata": {
        "id": "s1epAz_aUJX1"
      },
      "execution_count": null,
      "outputs": []
    },
    {
      "cell_type": "code",
      "source": [
        "# calling the function local\n",
        "try:\n",
        "    local()\n",
        "except Exception as e:\n",
        "    print(e)\n",
        "m = 5\n",
        "print(m, 'printing from the global scope')\n",
        "enclosing_func()"
      ],
      "metadata": {
        "colab": {
          "base_uri": "https://localhost:8080/"
        },
        "id": "foXC_8A2UKqq",
        "outputId": "28db86e7-54fe-4270-e05e-0432870ef56b"
      },
      "execution_count": null,
      "outputs": [
        {
          "output_type": "stream",
          "name": "stdout",
          "text": [
            "5 printing from the local scope\n",
            "5 printing from the global scope\n"
          ]
        }
      ]
    },
    {
      "cell_type": "markdown",
      "source": [
        "# Object and class\n",
        "\n",
        "---\n",
        "\n"
      ],
      "metadata": {
        "id": "4drHgcT-US4S"
      }
    },
    {
      "cell_type": "code",
      "source": [
        "# let's define the class Bike\n",
        "class Bike:\n",
        "    def __init__(self, colour, frame_material):\n",
        "        self.colour = colour\n",
        "        self.frame_material = frame_material\n",
        "\n",
        "    def brake(self):\n",
        "        print(\"Braking!\")"
      ],
      "metadata": {
        "id": "6xZGfClxUXfD"
      },
      "execution_count": null,
      "outputs": []
    },
    {
      "cell_type": "code",
      "source": [
        "# let's create a couple of instances\n",
        "red_bike = Bike('Red', 'Carbon fiber')\n",
        "blue_bike = Bike('Blue', 'Steel')"
      ],
      "metadata": {
        "id": "Kb-kzRCAUaWc"
      },
      "execution_count": null,
      "outputs": []
    },
    {
      "cell_type": "code",
      "source": [
        "red_bike.colour,  red_bike.frame_material,  blue_bike.colour,  blue_bike.frame_material"
      ],
      "metadata": {
        "colab": {
          "base_uri": "https://localhost:8080/"
        },
        "id": "igREwgebUc2o",
        "outputId": "dd607d4b-da96-4644-c0b0-be15968a293e"
      },
      "execution_count": null,
      "outputs": [
        {
          "output_type": "execute_result",
          "data": {
            "text/plain": [
              "('Red', 'Carbon fiber', 'Blue', 'Steel')"
            ]
          },
          "metadata": {},
          "execution_count": 20
        }
      ]
    },
    {
      "cell_type": "code",
      "source": [
        "red_bike.brake()"
      ],
      "metadata": {
        "colab": {
          "base_uri": "https://localhost:8080/"
        },
        "id": "mAVouR81UwzT",
        "outputId": "6a783416-13f5-4255-9e7e-a6dba864a4ca"
      },
      "execution_count": null,
      "outputs": [
        {
          "output_type": "stream",
          "name": "stdout",
          "text": [
            "Braking!\n"
          ]
        }
      ]
    },
    {
      "cell_type": "markdown",
      "source": [
        "# Python culture\n",
        "---"
      ],
      "metadata": {
        "id": "3eL5e1e1UyCe"
      }
    },
    {
      "cell_type": "code",
      "source": [
        "import this"
      ],
      "metadata": {
        "colab": {
          "base_uri": "https://localhost:8080/"
        },
        "id": "-rzl_OVaU2KJ",
        "outputId": "eb286b9f-7597-4f21-d547-73e147829ccd"
      },
      "execution_count": null,
      "outputs": [
        {
          "output_type": "stream",
          "name": "stdout",
          "text": [
            "The Zen of Python, by Tim Peters\n",
            "\n",
            "Beautiful is better than ugly.\n",
            "Explicit is better than implicit.\n",
            "Simple is better than complex.\n",
            "Complex is better than complicated.\n",
            "Flat is better than nested.\n",
            "Sparse is better than dense.\n",
            "Readability counts.\n",
            "Special cases aren't special enough to break the rules.\n",
            "Although practicality beats purity.\n",
            "Errors should never pass silently.\n",
            "Unless explicitly silenced.\n",
            "In the face of ambiguity, refuse the temptation to guess.\n",
            "There should be one-- and preferably only one --obvious way to do it.\n",
            "Although that way may not be obvious at first unless you're Dutch.\n",
            "Now is better than never.\n",
            "Although never is often better than *right* now.\n",
            "If the implementation is hard to explain, it's a bad idea.\n",
            "If the implementation is easy to explain, it may be a good idea.\n",
            "Namespaces are one honking great idea -- let's do more of those!\n"
          ]
        }
      ]
    },
    {
      "cell_type": "markdown",
      "source": [
        "# Mutable or immutable?\n",
        "---"
      ],
      "metadata": {
        "id": "0sq6gWywU-XM"
      }
    },
    {
      "cell_type": "code",
      "source": [
        "age = 42"
      ],
      "metadata": {
        "id": "rDblyPuuVAp_"
      },
      "execution_count": null,
      "outputs": []
    },
    {
      "cell_type": "code",
      "source": [
        "age"
      ],
      "metadata": {
        "colab": {
          "base_uri": "https://localhost:8080/"
        },
        "id": "lVMSlTaBVDFS",
        "outputId": "d0b2cb2e-fb52-4997-fe37-2090691cbeea"
      },
      "execution_count": null,
      "outputs": [
        {
          "output_type": "execute_result",
          "data": {
            "text/plain": [
              "42"
            ]
          },
          "metadata": {},
          "execution_count": 24
        }
      ]
    },
    {
      "cell_type": "code",
      "source": [
        "id(age)"
      ],
      "metadata": {
        "colab": {
          "base_uri": "https://localhost:8080/"
        },
        "id": "r4JvXZWtVPmc",
        "outputId": "cc8638c1-c966-4a08-9865-9a8574c6101d"
      },
      "execution_count": null,
      "outputs": [
        {
          "output_type": "execute_result",
          "data": {
            "text/plain": [
              "139526911886864"
            ]
          },
          "metadata": {},
          "execution_count": 25
        }
      ]
    },
    {
      "cell_type": "code",
      "source": [
        "age = 43"
      ],
      "metadata": {
        "id": "j1uTf1LPVFQB"
      },
      "execution_count": null,
      "outputs": []
    },
    {
      "cell_type": "code",
      "source": [
        "age"
      ],
      "metadata": {
        "colab": {
          "base_uri": "https://localhost:8080/"
        },
        "id": "9gu7eBhZVMYo",
        "outputId": "9fd5d11c-b7ec-43b0-fb64-96d737230a63"
      },
      "execution_count": null,
      "outputs": [
        {
          "output_type": "execute_result",
          "data": {
            "text/plain": [
              "43"
            ]
          },
          "metadata": {},
          "execution_count": 27
        }
      ]
    },
    {
      "cell_type": "code",
      "source": [
        "id(age)"
      ],
      "metadata": {
        "colab": {
          "base_uri": "https://localhost:8080/"
        },
        "id": "gRQ5hYxrVTMX",
        "outputId": "9cae98d5-be30-41bb-fadf-f4ee7afe2579"
      },
      "execution_count": null,
      "outputs": [
        {
          "output_type": "execute_result",
          "data": {
            "text/plain": [
              "139526911886896"
            ]
          },
          "metadata": {},
          "execution_count": 28
        }
      ]
    },
    {
      "cell_type": "code",
      "source": [
        "class Person:\n",
        "    def __init__(self, age):\n",
        "      self.age = age"
      ],
      "metadata": {
        "id": "mdh3qWRBVW9m"
      },
      "execution_count": null,
      "outputs": []
    },
    {
      "cell_type": "code",
      "source": [
        "fab = Person(age=42)"
      ],
      "metadata": {
        "id": "RRmF7biHVaKg"
      },
      "execution_count": null,
      "outputs": []
    },
    {
      "cell_type": "code",
      "source": [
        "fab.age"
      ],
      "metadata": {
        "colab": {
          "base_uri": "https://localhost:8080/"
        },
        "id": "nS0eksLtVc2T",
        "outputId": "e700c378-a954-4817-b732-f6d0851c060b"
      },
      "execution_count": null,
      "outputs": [
        {
          "output_type": "execute_result",
          "data": {
            "text/plain": [
              "42"
            ]
          },
          "metadata": {},
          "execution_count": 31
        }
      ]
    },
    {
      "cell_type": "code",
      "source": [
        "id(fab)"
      ],
      "metadata": {
        "colab": {
          "base_uri": "https://localhost:8080/"
        },
        "id": "2983bP3kVfSz",
        "outputId": "5b2a5dc1-4bc5-43cc-8ccf-a6ee5b378a9e"
      },
      "execution_count": null,
      "outputs": [
        {
          "output_type": "execute_result",
          "data": {
            "text/plain": [
              "139526483476336"
            ]
          },
          "metadata": {},
          "execution_count": 32
        }
      ]
    },
    {
      "cell_type": "code",
      "source": [
        "id(fab.age)"
      ],
      "metadata": {
        "colab": {
          "base_uri": "https://localhost:8080/"
        },
        "id": "n41xdr54Vge4",
        "outputId": "8a123362-c7e6-4f91-e963-2f7725fb17e2"
      },
      "execution_count": null,
      "outputs": [
        {
          "output_type": "execute_result",
          "data": {
            "text/plain": [
              "139526911886864"
            ]
          },
          "metadata": {},
          "execution_count": 33
        }
      ]
    },
    {
      "cell_type": "code",
      "source": [
        "fab.age = 25"
      ],
      "metadata": {
        "id": "LZz5tX5RVjlU"
      },
      "execution_count": null,
      "outputs": []
    },
    {
      "cell_type": "code",
      "source": [
        "id(fab)"
      ],
      "metadata": {
        "colab": {
          "base_uri": "https://localhost:8080/"
        },
        "id": "vcxNctxxVlYv",
        "outputId": "edf3500b-3e62-45f2-e181-b551e1878b8c"
      },
      "execution_count": null,
      "outputs": [
        {
          "output_type": "execute_result",
          "data": {
            "text/plain": [
              "139526483476336"
            ]
          },
          "metadata": {},
          "execution_count": 35
        }
      ]
    },
    {
      "cell_type": "code",
      "source": [
        "id(fab.age)"
      ],
      "metadata": {
        "colab": {
          "base_uri": "https://localhost:8080/"
        },
        "id": "2tf4Wtq9Vm2S",
        "outputId": "ea42bddb-f9b9-454d-b647-a47fa8f9b23a"
      },
      "execution_count": null,
      "outputs": [
        {
          "output_type": "execute_result",
          "data": {
            "text/plain": [
              "139526911886320"
            ]
          },
          "metadata": {},
          "execution_count": 36
        }
      ]
    },
    {
      "cell_type": "markdown",
      "source": [
        "# Numbers\n",
        "---"
      ],
      "metadata": {
        "id": "PKQtpIE3VrXn"
      }
    },
    {
      "cell_type": "markdown",
      "source": [
        "integers"
      ],
      "metadata": {
        "id": "3WCCOO-qVvxN"
      }
    },
    {
      "cell_type": "code",
      "source": [
        "a = 14"
      ],
      "metadata": {
        "id": "_2ve4hDNVxjp"
      },
      "execution_count": null,
      "outputs": []
    },
    {
      "cell_type": "code",
      "source": [
        "b = 3"
      ],
      "metadata": {
        "id": "yB8YNsz8V0EB"
      },
      "execution_count": null,
      "outputs": []
    },
    {
      "cell_type": "code",
      "source": [
        "a + b # addition"
      ],
      "metadata": {
        "colab": {
          "base_uri": "https://localhost:8080/"
        },
        "id": "nXcFXhW4V0Z1",
        "outputId": "c1750a2f-b9fc-4718-edda-b2c4d5de26ee"
      },
      "execution_count": null,
      "outputs": [
        {
          "output_type": "execute_result",
          "data": {
            "text/plain": [
              "17"
            ]
          },
          "metadata": {},
          "execution_count": 39
        }
      ]
    },
    {
      "cell_type": "code",
      "source": [
        "a - b # subtraction"
      ],
      "metadata": {
        "colab": {
          "base_uri": "https://localhost:8080/"
        },
        "id": "yxBeklSEV2QQ",
        "outputId": "f35baf71-a20d-4be8-c19a-03ff598bad1e"
      },
      "execution_count": null,
      "outputs": [
        {
          "output_type": "execute_result",
          "data": {
            "text/plain": [
              "11"
            ]
          },
          "metadata": {},
          "execution_count": 40
        }
      ]
    },
    {
      "cell_type": "code",
      "source": [
        "a * b # multiplication"
      ],
      "metadata": {
        "colab": {
          "base_uri": "https://localhost:8080/"
        },
        "id": "AdNmVlnLV6T3",
        "outputId": "07a9b810-dd48-44b2-9e30-2a63547e9939"
      },
      "execution_count": null,
      "outputs": [
        {
          "output_type": "execute_result",
          "data": {
            "text/plain": [
              "42"
            ]
          },
          "metadata": {},
          "execution_count": 41
        }
      ]
    },
    {
      "cell_type": "code",
      "source": [
        "a / b # true division"
      ],
      "metadata": {
        "colab": {
          "base_uri": "https://localhost:8080/"
        },
        "id": "iczPqLo6V6fx",
        "outputId": "8a5e5b2b-9455-4618-fb2a-4576231d4018"
      },
      "execution_count": null,
      "outputs": [
        {
          "output_type": "execute_result",
          "data": {
            "text/plain": [
              "4.666666666666667"
            ]
          },
          "metadata": {},
          "execution_count": 42
        }
      ]
    },
    {
      "cell_type": "code",
      "source": [
        "a // b # integer division"
      ],
      "metadata": {
        "colab": {
          "base_uri": "https://localhost:8080/"
        },
        "id": "e9A_6Vt1V-d5",
        "outputId": "6d481b98-b373-44f6-e51a-e56e25780529"
      },
      "execution_count": null,
      "outputs": [
        {
          "output_type": "execute_result",
          "data": {
            "text/plain": [
              "4"
            ]
          },
          "metadata": {},
          "execution_count": 43
        }
      ]
    },
    {
      "cell_type": "code",
      "source": [
        "a % b # modulo operation (reminder of division)"
      ],
      "metadata": {
        "colab": {
          "base_uri": "https://localhost:8080/"
        },
        "id": "Lp7aAMcoWBMG",
        "outputId": "39ffecf7-99c3-4c79-f83a-0e7239deb1b3"
      },
      "execution_count": null,
      "outputs": [
        {
          "output_type": "execute_result",
          "data": {
            "text/plain": [
              "2"
            ]
          },
          "metadata": {},
          "execution_count": 44
        }
      ]
    },
    {
      "cell_type": "code",
      "source": [
        "a ** b # power operation"
      ],
      "metadata": {
        "colab": {
          "base_uri": "https://localhost:8080/"
        },
        "id": "HjeiSRL5WBxI",
        "outputId": "e07b5bfd-3533-408f-dd91-66806984062e"
      },
      "execution_count": null,
      "outputs": [
        {
          "output_type": "execute_result",
          "data": {
            "text/plain": [
              "2744"
            ]
          },
          "metadata": {},
          "execution_count": 45
        }
      ]
    },
    {
      "cell_type": "markdown",
      "source": [
        "# Bytes\n",
        "---"
      ],
      "metadata": {
        "id": "hfDA-YTCc9Td"
      }
    },
    {
      "cell_type": "code",
      "source": [
        "bytearray()"
      ],
      "metadata": {
        "colab": {
          "base_uri": "https://localhost:8080/"
        },
        "id": "eZk2aIFvdCpu",
        "outputId": "10492ae2-029d-424d-fa3e-09fab8552de4"
      },
      "execution_count": null,
      "outputs": [
        {
          "output_type": "execute_result",
          "data": {
            "text/plain": [
              "bytearray(b'')"
            ]
          },
          "metadata": {},
          "execution_count": 46
        }
      ]
    },
    {
      "cell_type": "code",
      "source": [
        "bytearray(10)"
      ],
      "metadata": {
        "colab": {
          "base_uri": "https://localhost:8080/"
        },
        "id": "6-8bEZzxdE2U",
        "outputId": "cc898ece-a190-4d78-b8ac-2b0a81d4d94f"
      },
      "execution_count": null,
      "outputs": [
        {
          "output_type": "execute_result",
          "data": {
            "text/plain": [
              "bytearray(b'\\x00\\x00\\x00\\x00\\x00\\x00\\x00\\x00\\x00\\x00')"
            ]
          },
          "metadata": {},
          "execution_count": 47
        }
      ]
    },
    {
      "cell_type": "code",
      "source": [
        "bytearray(range(5))"
      ],
      "metadata": {
        "colab": {
          "base_uri": "https://localhost:8080/"
        },
        "id": "bJfN2ynrdG8P",
        "outputId": "f3ceea48-b24f-44e3-8545-09c111a4cda2"
      },
      "execution_count": null,
      "outputs": [
        {
          "output_type": "execute_result",
          "data": {
            "text/plain": [
              "bytearray(b'\\x00\\x01\\x02\\x03\\x04')"
            ]
          },
          "metadata": {},
          "execution_count": 48
        }
      ]
    },
    {
      "cell_type": "code",
      "source": [
        "name = bytearray(b'Lina')"
      ],
      "metadata": {
        "id": "rrPwWvERdRHY"
      },
      "execution_count": null,
      "outputs": []
    },
    {
      "cell_type": "code",
      "source": [
        "name"
      ],
      "metadata": {
        "colab": {
          "base_uri": "https://localhost:8080/"
        },
        "id": "tkXmETj2dSsl",
        "outputId": "ca3d6e8f-ad50-4462-cfa6-2be42be79ba4"
      },
      "execution_count": null,
      "outputs": [
        {
          "output_type": "execute_result",
          "data": {
            "text/plain": [
              "bytearray(b'Lina')"
            ]
          },
          "metadata": {},
          "execution_count": 50
        }
      ]
    },
    {
      "cell_type": "code",
      "source": [
        "name.replace(b'L', b'l')"
      ],
      "metadata": {
        "colab": {
          "base_uri": "https://localhost:8080/"
        },
        "id": "N-Awb2gWdYWk",
        "outputId": "9fc5bfa5-921d-4451-d309-93ee7f4bcc6f"
      },
      "execution_count": null,
      "outputs": [
        {
          "output_type": "execute_result",
          "data": {
            "text/plain": [
              "bytearray(b'lina')"
            ]
          },
          "metadata": {},
          "execution_count": 51
        }
      ]
    },
    {
      "cell_type": "code",
      "source": [
        "name.endswith(b'na')"
      ],
      "metadata": {
        "colab": {
          "base_uri": "https://localhost:8080/"
        },
        "id": "kd2Ji-vRdaJE",
        "outputId": "b587b9cc-dd07-432a-f2b3-b26f44d17437"
      },
      "execution_count": null,
      "outputs": [
        {
          "output_type": "execute_result",
          "data": {
            "text/plain": [
              "True"
            ]
          },
          "metadata": {},
          "execution_count": 52
        }
      ]
    },
    {
      "cell_type": "markdown",
      "source": [
        "#Dates and time\n",
        "---"
      ],
      "metadata": {
        "id": "GksXNBM3eQva"
      }
    },
    {
      "cell_type": "code",
      "source": [
        "from datetime import date, datetime, timedelta, timezone\n",
        "import time\n",
        "import calendar as cal\n",
        "from zoneinfo import ZoneInfo"
      ],
      "metadata": {
        "id": "ini1qyTTeP_F"
      },
      "execution_count": null,
      "outputs": []
    },
    {
      "cell_type": "code",
      "source": [
        "today = date.today()\n",
        "today"
      ],
      "metadata": {
        "colab": {
          "base_uri": "https://localhost:8080/"
        },
        "id": "2xiAL2E7eVSY",
        "outputId": "b8890b25-c272-4df9-a061-acaa01dd124f"
      },
      "execution_count": null,
      "outputs": [
        {
          "output_type": "execute_result",
          "data": {
            "text/plain": [
              "datetime.date(2023, 9, 12)"
            ]
          },
          "metadata": {},
          "execution_count": 54
        }
      ]
    },
    {
      "cell_type": "code",
      "source": [
        "today.ctime()"
      ],
      "metadata": {
        "colab": {
          "base_uri": "https://localhost:8080/",
          "height": 35
        },
        "id": "K1O_YQ27eapR",
        "outputId": "3ad1b766-aba5-40ad-c6c4-a5560a96efd4"
      },
      "execution_count": null,
      "outputs": [
        {
          "output_type": "execute_result",
          "data": {
            "text/plain": [
              "'Tue Sep 12 00:00:00 2023'"
            ],
            "application/vnd.google.colaboratory.intrinsic+json": {
              "type": "string"
            }
          },
          "metadata": {},
          "execution_count": 55
        }
      ]
    },
    {
      "cell_type": "code",
      "source": [
        "today.isoformat()"
      ],
      "metadata": {
        "colab": {
          "base_uri": "https://localhost:8080/",
          "height": 35
        },
        "id": "jbIq3wZcegb8",
        "outputId": "410f7141-4406-4330-de32-e17c46835651"
      },
      "execution_count": null,
      "outputs": [
        {
          "output_type": "execute_result",
          "data": {
            "text/plain": [
              "'2023-09-12'"
            ],
            "application/vnd.google.colaboratory.intrinsic+json": {
              "type": "string"
            }
          },
          "metadata": {},
          "execution_count": 56
        }
      ]
    },
    {
      "cell_type": "code",
      "source": [
        "today.weekday()"
      ],
      "metadata": {
        "colab": {
          "base_uri": "https://localhost:8080/"
        },
        "id": "0pYqUAU-eh5x",
        "outputId": "0dbf80eb-1edb-4a1f-bd10-d247eeb13f0d"
      },
      "execution_count": null,
      "outputs": [
        {
          "output_type": "execute_result",
          "data": {
            "text/plain": [
              "1"
            ]
          },
          "metadata": {},
          "execution_count": 57
        }
      ]
    },
    {
      "cell_type": "code",
      "source": [
        "cal.day_name[today.weekday()]"
      ],
      "metadata": {
        "colab": {
          "base_uri": "https://localhost:8080/",
          "height": 35
        },
        "id": "grcLL1fUejAi",
        "outputId": "ac8c2ed7-70b4-46d4-bc8d-b1891e58ea07"
      },
      "execution_count": null,
      "outputs": [
        {
          "output_type": "execute_result",
          "data": {
            "text/plain": [
              "'Tuesday'"
            ],
            "application/vnd.google.colaboratory.intrinsic+json": {
              "type": "string"
            }
          },
          "metadata": {},
          "execution_count": 58
        }
      ]
    },
    {
      "cell_type": "code",
      "source": [
        "today.day, today.month, today.year"
      ],
      "metadata": {
        "colab": {
          "base_uri": "https://localhost:8080/"
        },
        "id": "plh9j0-LemvQ",
        "outputId": "ed2975af-73d2-44f9-ee6f-4daf52b43465"
      },
      "execution_count": null,
      "outputs": [
        {
          "output_type": "execute_result",
          "data": {
            "text/plain": [
              "(12, 9, 2023)"
            ]
          },
          "metadata": {},
          "execution_count": 59
        }
      ]
    },
    {
      "cell_type": "code",
      "source": [
        "today.timetuple()"
      ],
      "metadata": {
        "colab": {
          "base_uri": "https://localhost:8080/"
        },
        "id": "yjyg3wzkelTv",
        "outputId": "6a3e3efa-9c36-4232-dd68-d9fd5ce73485"
      },
      "execution_count": null,
      "outputs": [
        {
          "output_type": "execute_result",
          "data": {
            "text/plain": [
              "time.struct_time(tm_year=2023, tm_mon=9, tm_mday=12, tm_hour=0, tm_min=0, tm_sec=0, tm_wday=1, tm_yday=255, tm_isdst=-1)"
            ]
          },
          "metadata": {},
          "execution_count": 60
        }
      ]
    },
    {
      "cell_type": "code",
      "source": [
        "time.ctime()"
      ],
      "metadata": {
        "colab": {
          "base_uri": "https://localhost:8080/",
          "height": 35
        },
        "id": "TgJGWA4mew7l",
        "outputId": "aa712eb6-8ffb-452f-f339-b0489dd2ef1e"
      },
      "execution_count": null,
      "outputs": [
        {
          "output_type": "execute_result",
          "data": {
            "text/plain": [
              "'Tue Sep 12 19:40:44 2023'"
            ],
            "application/vnd.google.colaboratory.intrinsic+json": {
              "type": "string"
            }
          },
          "metadata": {},
          "execution_count": 61
        }
      ]
    },
    {
      "cell_type": "code",
      "source": [
        "time.gmtime()"
      ],
      "metadata": {
        "colab": {
          "base_uri": "https://localhost:8080/"
        },
        "id": "ITa3vIdce7Of",
        "outputId": "102eebf9-c045-47c2-ea22-d380a5a4ea0f"
      },
      "execution_count": null,
      "outputs": [
        {
          "output_type": "execute_result",
          "data": {
            "text/plain": [
              "time.struct_time(tm_year=2023, tm_mon=9, tm_mday=12, tm_hour=19, tm_min=40, tm_sec=44, tm_wday=1, tm_yday=255, tm_isdst=0)"
            ]
          },
          "metadata": {},
          "execution_count": 62
        }
      ]
    },
    {
      "cell_type": "code",
      "source": [
        "time.gmtime(0)"
      ],
      "metadata": {
        "colab": {
          "base_uri": "https://localhost:8080/"
        },
        "id": "F7vekyKCe8H9",
        "outputId": "67f71ecd-6f74-4761-b8cc-d4aece32abe4"
      },
      "execution_count": null,
      "outputs": [
        {
          "output_type": "execute_result",
          "data": {
            "text/plain": [
              "time.struct_time(tm_year=1970, tm_mon=1, tm_mday=1, tm_hour=0, tm_min=0, tm_sec=0, tm_wday=3, tm_yday=1, tm_isdst=0)"
            ]
          },
          "metadata": {},
          "execution_count": 63
        }
      ]
    },
    {
      "cell_type": "code",
      "source": [
        "time.localtime()"
      ],
      "metadata": {
        "colab": {
          "base_uri": "https://localhost:8080/"
        },
        "id": "ofDpt20tfBNs",
        "outputId": "28cd61c1-1314-4969-e1db-1fb8cd7722af"
      },
      "execution_count": null,
      "outputs": [
        {
          "output_type": "execute_result",
          "data": {
            "text/plain": [
              "time.struct_time(tm_year=2023, tm_mon=9, tm_mday=12, tm_hour=19, tm_min=40, tm_sec=44, tm_wday=1, tm_yday=255, tm_isdst=0)"
            ]
          },
          "metadata": {},
          "execution_count": 64
        }
      ]
    },
    {
      "cell_type": "code",
      "source": [
        "time.time()"
      ],
      "metadata": {
        "colab": {
          "base_uri": "https://localhost:8080/"
        },
        "id": "hoG7rU8cfD3f",
        "outputId": "648609c6-75d9-45ce-d78a-7bbb4b9df44f"
      },
      "execution_count": null,
      "outputs": [
        {
          "output_type": "execute_result",
          "data": {
            "text/plain": [
              "1694547644.6433678"
            ]
          },
          "metadata": {},
          "execution_count": 65
        }
      ]
    },
    {
      "cell_type": "code",
      "source": [
        "now = datetime.now()\n",
        "utcnow = datetime.utcnow()\n",
        "now, utcnow"
      ],
      "metadata": {
        "colab": {
          "base_uri": "https://localhost:8080/"
        },
        "id": "sgQHONJEfHyf",
        "outputId": "ce8d2e71-04fd-4f99-eb24-ac2661a58ab6"
      },
      "execution_count": null,
      "outputs": [
        {
          "output_type": "execute_result",
          "data": {
            "text/plain": [
              "(datetime.datetime(2023, 9, 12, 19, 40, 44, 656525),\n",
              " datetime.datetime(2023, 9, 12, 19, 40, 44, 656581))"
            ]
          },
          "metadata": {},
          "execution_count": 66
        }
      ]
    },
    {
      "cell_type": "code",
      "source": [
        "now.date()"
      ],
      "metadata": {
        "colab": {
          "base_uri": "https://localhost:8080/"
        },
        "id": "CMUYEPHGfKlJ",
        "outputId": "15841382-c4f0-4047-9cdb-42d47b08ed54"
      },
      "execution_count": null,
      "outputs": [
        {
          "output_type": "execute_result",
          "data": {
            "text/plain": [
              "datetime.date(2023, 9, 12)"
            ]
          },
          "metadata": {},
          "execution_count": 67
        }
      ]
    },
    {
      "cell_type": "code",
      "source": [
        "now.day, now.month, now.year"
      ],
      "metadata": {
        "colab": {
          "base_uri": "https://localhost:8080/"
        },
        "id": "fiFc12eIfZh_",
        "outputId": "c2bcf903-db87-479e-8097-32c3510ecefb"
      },
      "execution_count": null,
      "outputs": [
        {
          "output_type": "execute_result",
          "data": {
            "text/plain": [
              "(12, 9, 2023)"
            ]
          },
          "metadata": {},
          "execution_count": 68
        }
      ]
    },
    {
      "cell_type": "code",
      "source": [
        "now.date() == date.today()"
      ],
      "metadata": {
        "colab": {
          "base_uri": "https://localhost:8080/"
        },
        "id": "tfKHXWFifdtQ",
        "outputId": "056d8aec-7c85-45fb-f582-de23dcad1047"
      },
      "execution_count": null,
      "outputs": [
        {
          "output_type": "execute_result",
          "data": {
            "text/plain": [
              "True"
            ]
          },
          "metadata": {},
          "execution_count": 69
        }
      ]
    },
    {
      "cell_type": "code",
      "source": [
        "now.time()"
      ],
      "metadata": {
        "colab": {
          "base_uri": "https://localhost:8080/"
        },
        "id": "BwUY32Lkf7Nz",
        "outputId": "7643421b-98fa-4448-e128-6597a07a74da"
      },
      "execution_count": null,
      "outputs": [
        {
          "output_type": "execute_result",
          "data": {
            "text/plain": [
              "datetime.time(19, 40, 44, 656525)"
            ]
          },
          "metadata": {},
          "execution_count": 70
        }
      ]
    },
    {
      "cell_type": "code",
      "source": [
        "now.hour, now.minute, now.second, now.microsecond"
      ],
      "metadata": {
        "colab": {
          "base_uri": "https://localhost:8080/"
        },
        "id": "5gmgcOXff81E",
        "outputId": "49806424-eee0-48a0-944f-2ed7b5257b33"
      },
      "execution_count": null,
      "outputs": [
        {
          "output_type": "execute_result",
          "data": {
            "text/plain": [
              "(19, 40, 44, 656525)"
            ]
          },
          "metadata": {},
          "execution_count": 71
        }
      ]
    },
    {
      "cell_type": "code",
      "source": [
        "now.ctime()"
      ],
      "metadata": {
        "colab": {
          "base_uri": "https://localhost:8080/",
          "height": 35
        },
        "id": "BHaw8PXBf-RP",
        "outputId": "0a59a916-cf78-4fb4-8868-2a905891ea9a"
      },
      "execution_count": null,
      "outputs": [
        {
          "output_type": "execute_result",
          "data": {
            "text/plain": [
              "'Tue Sep 12 19:40:44 2023'"
            ],
            "application/vnd.google.colaboratory.intrinsic+json": {
              "type": "string"
            }
          },
          "metadata": {},
          "execution_count": 72
        }
      ]
    },
    {
      "cell_type": "code",
      "source": [
        "now.isoformat()"
      ],
      "metadata": {
        "colab": {
          "base_uri": "https://localhost:8080/",
          "height": 35
        },
        "id": "gNuWJz79f_qv",
        "outputId": "7a290b51-a93a-44d0-8356-c3a84a610ff2"
      },
      "execution_count": null,
      "outputs": [
        {
          "output_type": "execute_result",
          "data": {
            "text/plain": [
              "'2023-09-12T19:40:44.656525'"
            ],
            "application/vnd.google.colaboratory.intrinsic+json": {
              "type": "string"
            }
          },
          "metadata": {},
          "execution_count": 73
        }
      ]
    },
    {
      "cell_type": "code",
      "source": [
        "now.timetuple()"
      ],
      "metadata": {
        "colab": {
          "base_uri": "https://localhost:8080/"
        },
        "id": "5lGRkNpBgA9W",
        "outputId": "4923a7b9-ceb7-49dc-e1a9-e3f351e1eb8a"
      },
      "execution_count": null,
      "outputs": [
        {
          "output_type": "execute_result",
          "data": {
            "text/plain": [
              "time.struct_time(tm_year=2023, tm_mon=9, tm_mday=12, tm_hour=19, tm_min=40, tm_sec=44, tm_wday=1, tm_yday=255, tm_isdst=-1)"
            ]
          },
          "metadata": {},
          "execution_count": 74
        }
      ]
    },
    {
      "cell_type": "code",
      "source": [
        "now.tzinfo\n",
        "utcnow.tzinfo\n",
        "now.weekday()"
      ],
      "metadata": {
        "colab": {
          "base_uri": "https://localhost:8080/"
        },
        "id": "5X3-I4n1gC7z",
        "outputId": "2f07ac86-45fa-4edb-acca-5beaeb100f4f"
      },
      "execution_count": null,
      "outputs": [
        {
          "output_type": "execute_result",
          "data": {
            "text/plain": [
              "1"
            ]
          },
          "metadata": {},
          "execution_count": 75
        }
      ]
    },
    {
      "cell_type": "code",
      "source": [
        "f_bday = datetime(\n",
        "1975, 12, 29, 12, 50, tzinfo=ZoneInfo('Europe/Rome')\n",
        ")\n",
        "h_bday = datetime(\n",
        "1981, 10, 7, 15, 30, 50, tzinfo=timezone(timedelta(hours=2))\n",
        ")\n",
        "diff = h_bday - f_bday\n",
        "diff, type(diff)"
      ],
      "metadata": {
        "colab": {
          "base_uri": "https://localhost:8080/"
        },
        "id": "4RyGk8-2gHyr",
        "outputId": "533a68d3-ee42-4177-91e6-f4640a06f3ba"
      },
      "execution_count": null,
      "outputs": [
        {
          "output_type": "execute_result",
          "data": {
            "text/plain": [
              "(datetime.timedelta(days=2109, seconds=6050), datetime.timedelta)"
            ]
          },
          "metadata": {},
          "execution_count": 76
        }
      ]
    },
    {
      "cell_type": "code",
      "source": [
        "diff.days, diff.total_seconds()"
      ],
      "metadata": {
        "colab": {
          "base_uri": "https://localhost:8080/"
        },
        "id": "y-vLHocOgOkE",
        "outputId": "965998e6-5124-4fff-f563-6f0b1d41f718"
      },
      "execution_count": null,
      "outputs": [
        {
          "output_type": "execute_result",
          "data": {
            "text/plain": [
              "(2109, 182223650.0)"
            ]
          },
          "metadata": {},
          "execution_count": 77
        }
      ]
    },
    {
      "cell_type": "code",
      "source": [
        "today + timedelta(days=49)"
      ],
      "metadata": {
        "colab": {
          "base_uri": "https://localhost:8080/"
        },
        "id": "oj_9fAq_gUIG",
        "outputId": "ab35d983-7010-4bf9-bd08-c01a92bc428e"
      },
      "execution_count": null,
      "outputs": [
        {
          "output_type": "execute_result",
          "data": {
            "text/plain": [
              "datetime.date(2023, 10, 31)"
            ]
          },
          "metadata": {},
          "execution_count": 78
        }
      ]
    },
    {
      "cell_type": "code",
      "source": [
        "now + timedelta(weeks=7)"
      ],
      "metadata": {
        "colab": {
          "base_uri": "https://localhost:8080/"
        },
        "id": "aG2d3s7tgVaE",
        "outputId": "8130ba86-52bb-4c78-dcfd-0103ca57723a"
      },
      "execution_count": null,
      "outputs": [
        {
          "output_type": "execute_result",
          "data": {
            "text/plain": [
              "datetime.datetime(2023, 10, 31, 19, 40, 44, 656525)"
            ]
          },
          "metadata": {},
          "execution_count": 79
        }
      ]
    },
    {
      "cell_type": "code",
      "source": [
        "datetime.fromisoformat('1977-11-24T19:30:13+01:00')"
      ],
      "metadata": {
        "colab": {
          "base_uri": "https://localhost:8080/"
        },
        "id": "ZuGq2wKmgY72",
        "outputId": "f0738360-0576-488e-8ef6-f834e94d9718"
      },
      "execution_count": null,
      "outputs": [
        {
          "output_type": "execute_result",
          "data": {
            "text/plain": [
              "datetime.datetime(1977, 11, 24, 19, 30, 13, tzinfo=datetime.timezone(datetime.timedelta(seconds=3600)))"
            ]
          },
          "metadata": {},
          "execution_count": 80
        }
      ]
    },
    {
      "cell_type": "code",
      "source": [
        "datetime.fromtimestamp(time.time())"
      ],
      "metadata": {
        "colab": {
          "base_uri": "https://localhost:8080/"
        },
        "id": "ajaOMyGOgZ9Q",
        "outputId": "f7cf0c66-5b14-43f2-d4f4-91c4c0ce4c40"
      },
      "execution_count": null,
      "outputs": [
        {
          "output_type": "execute_result",
          "data": {
            "text/plain": [
              "datetime.datetime(2023, 9, 12, 19, 40, 44, 966684)"
            ]
          },
          "metadata": {},
          "execution_count": 81
        }
      ]
    },
    {
      "cell_type": "markdown",
      "source": [
        "# Third-party libraries\n",
        "---\n",
        "> * dateutil: Powerful extensions to datetime (https://dateutil.readthedocs.\n",
        "io/en/stable/)\n",
        "> * Arrow: Better dates and times for Python (https://arrow.readthedocs.io/\n",
        "en/latest/)\n",
        "> * pytz: World time zone definitions for Python (https://pythonhosted.org/\n",
        "pytz/)"
      ],
      "metadata": {
        "id": "RM96hPyQghiG"
      }
    },
    {
      "cell_type": "code",
      "source": [
        "!pip install arrow"
      ],
      "metadata": {
        "colab": {
          "base_uri": "https://localhost:8080/"
        },
        "id": "u8JBqD-Ag_Cu",
        "outputId": "fde02921-1541-436c-df56-6d059d4a9c43"
      },
      "execution_count": null,
      "outputs": [
        {
          "output_type": "stream",
          "name": "stdout",
          "text": [
            "Collecting arrow\n",
            "  Downloading arrow-1.2.3-py3-none-any.whl (66 kB)\n",
            "\u001b[?25l     \u001b[90m━━━━━━━━━━━━━━━━━━━━━━━━━━━━━━━━━━━━━━━━\u001b[0m \u001b[32m0.0/66.4 kB\u001b[0m \u001b[31m?\u001b[0m eta \u001b[36m-:--:--\u001b[0m\r\u001b[2K     \u001b[91m━━━━━━━━━━━━━━━━━━━━━━━━━━━━━━━━━━━━━\u001b[0m\u001b[90m╺\u001b[0m\u001b[90m━━\u001b[0m \u001b[32m61.4/66.4 kB\u001b[0m \u001b[31m2.5 MB/s\u001b[0m eta \u001b[36m0:00:01\u001b[0m\r\u001b[2K     \u001b[90m━━━━━━━━━━━━━━━━━━━━━━━━━━━━━━━━━━━━━━━━\u001b[0m \u001b[32m66.4/66.4 kB\u001b[0m \u001b[31m1.6 MB/s\u001b[0m eta \u001b[36m0:00:00\u001b[0m\n",
            "\u001b[?25hRequirement already satisfied: python-dateutil>=2.7.0 in /usr/local/lib/python3.10/dist-packages (from arrow) (2.8.2)\n",
            "Requirement already satisfied: six>=1.5 in /usr/local/lib/python3.10/dist-packages (from python-dateutil>=2.7.0->arrow) (1.16.0)\n",
            "Installing collected packages: arrow\n",
            "Successfully installed arrow-1.2.3\n"
          ]
        }
      ]
    },
    {
      "cell_type": "code",
      "source": [
        "import arrow"
      ],
      "metadata": {
        "id": "IhKZ8ksZgjft"
      },
      "execution_count": null,
      "outputs": []
    },
    {
      "cell_type": "code",
      "source": [
        "arrow.utcnow()"
      ],
      "metadata": {
        "colab": {
          "base_uri": "https://localhost:8080/"
        },
        "id": "3EzFAeHYhIEG",
        "outputId": "0433000d-095a-46e9-f6a6-0832975cddda"
      },
      "execution_count": null,
      "outputs": [
        {
          "output_type": "execute_result",
          "data": {
            "text/plain": [
              "<Arrow [2023-09-12T19:40:55.899331+00:00]>"
            ]
          },
          "metadata": {},
          "execution_count": 84
        }
      ]
    },
    {
      "cell_type": "code",
      "source": [
        "local = arrow.now('Europe/Rome')\n",
        "local"
      ],
      "metadata": {
        "colab": {
          "base_uri": "https://localhost:8080/"
        },
        "id": "PnZLNSLChJ5I",
        "outputId": "fd103697-5a76-4efb-f394-7c0213be710d"
      },
      "execution_count": null,
      "outputs": [
        {
          "output_type": "execute_result",
          "data": {
            "text/plain": [
              "<Arrow [2023-09-12T21:40:55.952450+02:00]>"
            ]
          },
          "metadata": {},
          "execution_count": 85
        }
      ]
    },
    {
      "cell_type": "code",
      "source": [
        "local.to('utc')"
      ],
      "metadata": {
        "colab": {
          "base_uri": "https://localhost:8080/"
        },
        "id": "kH4-mw8XhLH7",
        "outputId": "113b53d2-5f92-4ae0-bdd7-32d3e4037388"
      },
      "execution_count": null,
      "outputs": [
        {
          "output_type": "execute_result",
          "data": {
            "text/plain": [
              "<Arrow [2023-09-12T19:40:55.952450+00:00]>"
            ]
          },
          "metadata": {},
          "execution_count": 86
        }
      ]
    },
    {
      "cell_type": "code",
      "source": [
        "local.to('Europe/Moscow')"
      ],
      "metadata": {
        "colab": {
          "base_uri": "https://localhost:8080/"
        },
        "id": "7TvEXHaShMUq",
        "outputId": "80597e77-1d33-4811-94fb-e82c4e643f8f"
      },
      "execution_count": null,
      "outputs": [
        {
          "output_type": "execute_result",
          "data": {
            "text/plain": [
              "<Arrow [2023-09-12T22:40:55.952450+03:00]>"
            ]
          },
          "metadata": {},
          "execution_count": 87
        }
      ]
    },
    {
      "cell_type": "code",
      "source": [
        "local.to('Asia/Tokyo')"
      ],
      "metadata": {
        "colab": {
          "base_uri": "https://localhost:8080/"
        },
        "id": "AfNtoxPxhPm4",
        "outputId": "b1e74835-02bb-4e5d-df66-e3899815c8d4"
      },
      "execution_count": null,
      "outputs": [
        {
          "output_type": "execute_result",
          "data": {
            "text/plain": [
              "<Arrow [2023-09-13T04:40:55.952450+09:00]>"
            ]
          },
          "metadata": {},
          "execution_count": 88
        }
      ]
    },
    {
      "cell_type": "code",
      "source": [
        "local.datetime"
      ],
      "metadata": {
        "colab": {
          "base_uri": "https://localhost:8080/"
        },
        "id": "rVfi4QaahQ5O",
        "outputId": "cc83d0bf-9b48-4a10-a9c0-070fb7f7b43d"
      },
      "execution_count": null,
      "outputs": [
        {
          "output_type": "execute_result",
          "data": {
            "text/plain": [
              "datetime.datetime(2023, 9, 12, 21, 40, 55, 952450, tzinfo=tzfile('/usr/share/zoneinfo/Europe/Rome'))"
            ]
          },
          "metadata": {},
          "execution_count": 89
        }
      ]
    },
    {
      "cell_type": "code",
      "source": [
        "local.isoformat()"
      ],
      "metadata": {
        "colab": {
          "base_uri": "https://localhost:8080/",
          "height": 35
        },
        "id": "SI50Cvu7hR7c",
        "outputId": "71b2642b-9322-41c9-84c4-aca84f36ec64"
      },
      "execution_count": null,
      "outputs": [
        {
          "output_type": "execute_result",
          "data": {
            "text/plain": [
              "'2023-09-12T21:40:55.952450+02:00'"
            ],
            "application/vnd.google.colaboratory.intrinsic+json": {
              "type": "string"
            }
          },
          "metadata": {},
          "execution_count": 90
        }
      ]
    },
    {
      "cell_type": "markdown",
      "source": [
        "# The collections module\n",
        "---\n"
      ],
      "metadata": {
        "id": "AwIZ8nAVhUrx"
      }
    },
    {
      "cell_type": "markdown",
      "source": [
        "## namedtuple\n"
      ],
      "metadata": {
        "id": "HrPgnAcqhl5h"
      }
    },
    {
      "cell_type": "code",
      "source": [
        "vision = (9.5, 8.8)\n",
        "vision"
      ],
      "metadata": {
        "colab": {
          "base_uri": "https://localhost:8080/"
        },
        "id": "iPStg-kHhtNd",
        "outputId": "9af75d86-6865-40c2-b3fc-ecaf758848f6"
      },
      "execution_count": null,
      "outputs": [
        {
          "output_type": "execute_result",
          "data": {
            "text/plain": [
              "(9.5, 8.8)"
            ]
          },
          "metadata": {},
          "execution_count": 91
        }
      ]
    },
    {
      "cell_type": "code",
      "source": [
        "vision[0]"
      ],
      "metadata": {
        "colab": {
          "base_uri": "https://localhost:8080/"
        },
        "id": "rYWgTLMrhwRm",
        "outputId": "022f4235-a766-4bb1-f249-2da7a55460b9"
      },
      "execution_count": null,
      "outputs": [
        {
          "output_type": "execute_result",
          "data": {
            "text/plain": [
              "9.5"
            ]
          },
          "metadata": {},
          "execution_count": 92
        }
      ]
    },
    {
      "cell_type": "code",
      "source": [
        "vision[1]"
      ],
      "metadata": {
        "colab": {
          "base_uri": "https://localhost:8080/"
        },
        "id": "7M_Kx3zEhxwf",
        "outputId": "3106d0ac-9162-4fb7-d74b-4aabbbb5c3f0"
      },
      "execution_count": null,
      "outputs": [
        {
          "output_type": "execute_result",
          "data": {
            "text/plain": [
              "8.8"
            ]
          },
          "metadata": {},
          "execution_count": 93
        }
      ]
    },
    {
      "cell_type": "code",
      "source": [
        "from collections import namedtuple"
      ],
      "metadata": {
        "id": "uwhRPnr6hzV_"
      },
      "execution_count": null,
      "outputs": []
    },
    {
      "cell_type": "code",
      "source": [
        "Vision = namedtuple('Vision', ['left', 'right'])\n",
        "vision = Vision(9.5, 8.8)\n",
        "vision[0]"
      ],
      "metadata": {
        "colab": {
          "base_uri": "https://localhost:8080/"
        },
        "id": "k-COXItyh3Iy",
        "outputId": "b296f425-c94a-4646-b4b6-264c203d5e02"
      },
      "execution_count": null,
      "outputs": [
        {
          "output_type": "execute_result",
          "data": {
            "text/plain": [
              "9.5"
            ]
          },
          "metadata": {},
          "execution_count": 95
        }
      ]
    },
    {
      "cell_type": "code",
      "source": [
        "vision.left"
      ],
      "metadata": {
        "colab": {
          "base_uri": "https://localhost:8080/"
        },
        "id": "2CTEsXYbh5B1",
        "outputId": "3c1db9df-409c-48e0-b751-f4803941b921"
      },
      "execution_count": null,
      "outputs": [
        {
          "output_type": "execute_result",
          "data": {
            "text/plain": [
              "9.5"
            ]
          },
          "metadata": {},
          "execution_count": 96
        }
      ]
    },
    {
      "cell_type": "code",
      "source": [
        "vision.right"
      ],
      "metadata": {
        "colab": {
          "base_uri": "https://localhost:8080/"
        },
        "id": "5sFXA14oh6FY",
        "outputId": "67f376e2-a3b9-4737-9951-738927a902d6"
      },
      "execution_count": null,
      "outputs": [
        {
          "output_type": "execute_result",
          "data": {
            "text/plain": [
              "8.8"
            ]
          },
          "metadata": {},
          "execution_count": 97
        }
      ]
    },
    {
      "cell_type": "markdown",
      "source": [],
      "metadata": {
        "id": "9yCYpJTpiBVs"
      }
    },
    {
      "cell_type": "markdown",
      "source": [
        "## defaultdict"
      ],
      "metadata": {
        "id": "XiBgpT5miBZm"
      }
    },
    {
      "cell_type": "code",
      "source": [
        "d = {}\n",
        "d['age'] = d.get('age', 0) + 1 # age not there, we get 0 + 1\n",
        "d"
      ],
      "metadata": {
        "colab": {
          "base_uri": "https://localhost:8080/"
        },
        "id": "S_CN1gZaiEjC",
        "outputId": "3e7709a4-c922-4c20-a228-0531f8b2925f"
      },
      "execution_count": null,
      "outputs": [
        {
          "output_type": "execute_result",
          "data": {
            "text/plain": [
              "{'age': 1}"
            ]
          },
          "metadata": {},
          "execution_count": 98
        }
      ]
    },
    {
      "cell_type": "code",
      "source": [
        "d = {'age': 39}\n",
        "d['age'] = d.get('age', 0) + 1 # age is there, we get 40\n",
        "d"
      ],
      "metadata": {
        "colab": {
          "base_uri": "https://localhost:8080/"
        },
        "id": "TdpH_OWfiIAg",
        "outputId": "a08b8167-6e1a-4797-f2a5-ca839af5f678"
      },
      "execution_count": null,
      "outputs": [
        {
          "output_type": "execute_result",
          "data": {
            "text/plain": [
              "{'age': 40}"
            ]
          },
          "metadata": {},
          "execution_count": 99
        }
      ]
    },
    {
      "cell_type": "code",
      "source": [
        "from collections import defaultdict\n",
        "dd = defaultdict(int) # int is the default type (0 the value)\n",
        "dd"
      ],
      "metadata": {
        "colab": {
          "base_uri": "https://localhost:8080/"
        },
        "id": "go5Ih9VBiKsJ",
        "outputId": "5fd991b2-a4d6-4ef6-b50d-1bc2af1bff5d"
      },
      "execution_count": null,
      "outputs": [
        {
          "output_type": "execute_result",
          "data": {
            "text/plain": [
              "defaultdict(int, {})"
            ]
          },
          "metadata": {},
          "execution_count": 100
        }
      ]
    },
    {
      "cell_type": "code",
      "source": [
        "dd['age'] += 1 # short for dd['age'] = dd['age'] + 1\n",
        "dd"
      ],
      "metadata": {
        "colab": {
          "base_uri": "https://localhost:8080/"
        },
        "id": "amxSorxqiPm3",
        "outputId": "0f2ffd97-a0c4-4e62-db62-d0d272f0dba1"
      },
      "execution_count": null,
      "outputs": [
        {
          "output_type": "execute_result",
          "data": {
            "text/plain": [
              "defaultdict(int, {'age': 1})"
            ]
          },
          "metadata": {},
          "execution_count": 101
        }
      ]
    },
    {
      "cell_type": "markdown",
      "source": [
        "## ChainMap"
      ],
      "metadata": {
        "id": "VfkWVHnaiWUQ"
      }
    },
    {
      "cell_type": "code",
      "source": [
        "from collections import ChainMap"
      ],
      "metadata": {
        "id": "zcHAMXc2iYXK"
      },
      "execution_count": null,
      "outputs": []
    },
    {
      "cell_type": "code",
      "source": [
        "default_connection = {'host': 'localhost', 'port': 4567}\n",
        "connection = {'port': 5678}\n",
        "conn = ChainMap(connection, default_connection) # map creation\n",
        "conn['port'],conn['host']"
      ],
      "metadata": {
        "colab": {
          "base_uri": "https://localhost:8080/"
        },
        "id": "SyXNrRUJibfL",
        "outputId": "c03697ca-7bee-492f-bcf8-7d8971b6adf1"
      },
      "execution_count": null,
      "outputs": [
        {
          "output_type": "execute_result",
          "data": {
            "text/plain": [
              "(5678, 'localhost')"
            ]
          },
          "metadata": {},
          "execution_count": 103
        }
      ]
    },
    {
      "cell_type": "code",
      "source": [
        "conn.maps"
      ],
      "metadata": {
        "colab": {
          "base_uri": "https://localhost:8080/"
        },
        "id": "kAZ2pv1giiJK",
        "outputId": "a5d4a923-3da0-41a1-f7f5-22cc382e8d27"
      },
      "execution_count": null,
      "outputs": [
        {
          "output_type": "execute_result",
          "data": {
            "text/plain": [
              "[{'port': 5678}, {'host': 'localhost', 'port': 4567}]"
            ]
          },
          "metadata": {},
          "execution_count": 104
        }
      ]
    },
    {
      "cell_type": "code",
      "source": [
        "conn['host'] = 'packtpub.com' # let's add host\n",
        "conn.maps"
      ],
      "metadata": {
        "colab": {
          "base_uri": "https://localhost:8080/"
        },
        "id": "0IbbTJGKiqFG",
        "outputId": "c64a5ae2-954f-47c1-cc0e-f87781e4694c"
      },
      "execution_count": null,
      "outputs": [
        {
          "output_type": "execute_result",
          "data": {
            "text/plain": [
              "[{'port': 5678, 'host': 'packtpub.com'}, {'host': 'localhost', 'port': 4567}]"
            ]
          },
          "metadata": {},
          "execution_count": 105
        }
      ]
    },
    {
      "cell_type": "code",
      "source": [
        "del conn['port'] # let's remove the port information\n",
        "conn.maps"
      ],
      "metadata": {
        "colab": {
          "base_uri": "https://localhost:8080/"
        },
        "id": "wvYvbIc2itnl",
        "outputId": "37add23c-856b-48a8-eeb6-cbac9206e896"
      },
      "execution_count": null,
      "outputs": [
        {
          "output_type": "execute_result",
          "data": {
            "text/plain": [
              "[{'host': 'packtpub.com'}, {'host': 'localhost', 'port': 4567}]"
            ]
          },
          "metadata": {},
          "execution_count": 106
        }
      ]
    },
    {
      "cell_type": "code",
      "source": [
        "conn['port']"
      ],
      "metadata": {
        "colab": {
          "base_uri": "https://localhost:8080/"
        },
        "id": "a34oqTjWiyoR",
        "outputId": "d39a24e5-d44f-4fc5-a7c6-fd9c5958904b"
      },
      "execution_count": null,
      "outputs": [
        {
          "output_type": "execute_result",
          "data": {
            "text/plain": [
              "4567"
            ]
          },
          "metadata": {},
          "execution_count": 107
        }
      ]
    },
    {
      "cell_type": "code",
      "source": [
        "dict(conn)"
      ],
      "metadata": {
        "colab": {
          "base_uri": "https://localhost:8080/"
        },
        "id": "VAjloQv-i1KO",
        "outputId": "f543f6ca-a725-4d05-e687-05157bebd506"
      },
      "execution_count": null,
      "outputs": [
        {
          "output_type": "execute_result",
          "data": {
            "text/plain": [
              "{'host': 'packtpub.com', 'port': 4567}"
            ]
          },
          "metadata": {},
          "execution_count": 108
        }
      ]
    },
    {
      "cell_type": "markdown",
      "source": [
        "# Small value caching\n",
        "---"
      ],
      "metadata": {
        "id": "8aSFzZ3rjJn2"
      }
    },
    {
      "cell_type": "code",
      "source": [
        "a = 1000000\n",
        "b = 1000000\n",
        "id(a) == id(b)"
      ],
      "metadata": {
        "colab": {
          "base_uri": "https://localhost:8080/"
        },
        "id": "TOiFCFo4jLq6",
        "outputId": "625bedec-a10e-4a7f-9fa3-9121ccefc1b6"
      },
      "execution_count": null,
      "outputs": [
        {
          "output_type": "execute_result",
          "data": {
            "text/plain": [
              "False"
            ]
          },
          "metadata": {},
          "execution_count": 109
        }
      ]
    },
    {
      "cell_type": "code",
      "source": [
        "a = 5\n",
        "b = 5\n",
        "id(a) == id(b)"
      ],
      "metadata": {
        "colab": {
          "base_uri": "https://localhost:8080/"
        },
        "id": "QUYNoykvjO-C",
        "outputId": "fd628b9c-4c00-4889-f977-64ecd3c84f3b"
      },
      "execution_count": null,
      "outputs": [
        {
          "output_type": "execute_result",
          "data": {
            "text/plain": [
              "True"
            ]
          },
          "metadata": {},
          "execution_count": 110
        }
      ]
    },
    {
      "cell_type": "markdown",
      "source": [
        "# Itertools\n",
        "---"
      ],
      "metadata": {
        "id": "BC62l2BolKZx"
      }
    },
    {
      "cell_type": "markdown",
      "source": [
        "##Infinite iterators"
      ],
      "metadata": {
        "id": "RoRBECD_lgai"
      }
    },
    {
      "cell_type": "code",
      "source": [
        "from itertools import count"
      ],
      "metadata": {
        "id": "RopCS38gld51"
      },
      "execution_count": null,
      "outputs": []
    },
    {
      "cell_type": "code",
      "source": [
        "for n in count(5, 3):\n",
        "  if n > 20:\n",
        "    break\n",
        "  print(n, end=', ')"
      ],
      "metadata": {
        "colab": {
          "base_uri": "https://localhost:8080/"
        },
        "id": "_F1u-7-plhc6",
        "outputId": "8cfafdf2-5d74-4b88-d43a-05736b536119"
      },
      "execution_count": null,
      "outputs": [
        {
          "output_type": "stream",
          "name": "stdout",
          "text": [
            "5, 8, 11, 14, 17, 20, "
          ]
        }
      ]
    },
    {
      "cell_type": "markdown",
      "source": [
        "##Iterators terminating on the shortest input sequence"
      ],
      "metadata": {
        "id": "6GTVTmCnlnF-"
      }
    },
    {
      "cell_type": "code",
      "source": [
        "from itertools import compress"
      ],
      "metadata": {
        "id": "tT5Rkzi5lnxN"
      },
      "execution_count": null,
      "outputs": []
    },
    {
      "cell_type": "code",
      "source": [
        "data = range(10)\n",
        "even_selector = [1, 0] * 10\n",
        "odd_selector = [0, 1] * 10\n",
        "\n",
        "list(data), even_selector, odd_selector"
      ],
      "metadata": {
        "colab": {
          "base_uri": "https://localhost:8080/"
        },
        "id": "ej8GkoC8lqZY",
        "outputId": "51fda692-43fa-4004-d0d2-406a0ca66429"
      },
      "execution_count": null,
      "outputs": [
        {
          "output_type": "execute_result",
          "data": {
            "text/plain": [
              "([0, 1, 2, 3, 4, 5, 6, 7, 8, 9],\n",
              " [1, 0, 1, 0, 1, 0, 1, 0, 1, 0, 1, 0, 1, 0, 1, 0, 1, 0, 1, 0],\n",
              " [0, 1, 0, 1, 0, 1, 0, 1, 0, 1, 0, 1, 0, 1, 0, 1, 0, 1, 0, 1])"
            ]
          },
          "metadata": {},
          "execution_count": 114
        }
      ]
    },
    {
      "cell_type": "code",
      "source": [
        "even_numbers = list(compress(data, even_selector))\n",
        "odd_numbers = list(compress(data, odd_selector))\n",
        "\n",
        "even_numbers, odd_numbers"
      ],
      "metadata": {
        "colab": {
          "base_uri": "https://localhost:8080/"
        },
        "id": "qZpk_1cKlzQH",
        "outputId": "d42b8691-b3c7-4f6b-f724-be6cc89f9c42"
      },
      "execution_count": null,
      "outputs": [
        {
          "output_type": "execute_result",
          "data": {
            "text/plain": [
              "([0, 2, 4, 6, 8], [1, 3, 5, 7, 9])"
            ]
          },
          "metadata": {},
          "execution_count": 115
        }
      ]
    },
    {
      "cell_type": "markdown",
      "source": [
        "##Combinatoric generators"
      ],
      "metadata": {
        "id": "JtqIPTU9mAHZ"
      }
    },
    {
      "cell_type": "code",
      "source": [
        "from itertools import permutations"
      ],
      "metadata": {
        "id": "evBUn36lmBGj"
      },
      "execution_count": null,
      "outputs": []
    },
    {
      "cell_type": "code",
      "source": [
        "print(list(permutations('ABC')))"
      ],
      "metadata": {
        "colab": {
          "base_uri": "https://localhost:8080/"
        },
        "id": "uBOAzqDimCS5",
        "outputId": "5c6884ba-0aac-4903-e31b-77b56393fa0a"
      },
      "execution_count": null,
      "outputs": [
        {
          "output_type": "stream",
          "name": "stdout",
          "text": [
            "[('A', 'B', 'C'), ('A', 'C', 'B'), ('B', 'A', 'C'), ('B', 'C', 'A'), ('C', 'A', 'B'), ('C', 'B', 'A')]\n"
          ]
        }
      ]
    },
    {
      "cell_type": "markdown",
      "source": [
        "# Function\n",
        "---"
      ],
      "metadata": {
        "id": "2KXaQDbsmGm-"
      }
    },
    {
      "cell_type": "markdown",
      "source": [
        "## Improving readability"
      ],
      "metadata": {
        "id": "h3qUiwNtncPF"
      }
    },
    {
      "cell_type": "code",
      "source": [
        "a = [[1, 2], [3, 4]]\n",
        "b = [[5, 1], [2, 1]]"
      ],
      "metadata": {
        "id": "VojwC4NYmDYY"
      },
      "execution_count": null,
      "outputs": []
    },
    {
      "cell_type": "code",
      "source": [
        "c = [[sum(i * j for i, j in zip(r, c)) for c in zip(*b)]\n",
        "for r in a]\n",
        "c"
      ],
      "metadata": {
        "colab": {
          "base_uri": "https://localhost:8080/"
        },
        "id": "fTG2zVwJnfEF",
        "outputId": "7fea7d28-7cbf-4a49-8d54-c28aaccd476f"
      },
      "execution_count": null,
      "outputs": [
        {
          "output_type": "execute_result",
          "data": {
            "text/plain": [
              "[[9, 3], [23, 7]]"
            ]
          },
          "metadata": {},
          "execution_count": 119
        }
      ]
    },
    {
      "cell_type": "code",
      "source": [
        "def matrix_mul(a, b):\n",
        "  return [[sum(i * j for i, j in zip(r, c)) for c in zip(*b)]\n",
        "  for r in a]"
      ],
      "metadata": {
        "id": "WvrM_AfEnjF9"
      },
      "execution_count": null,
      "outputs": []
    },
    {
      "cell_type": "code",
      "source": [
        "c = matrix_mul(a, b)\n",
        "c"
      ],
      "metadata": {
        "colab": {
          "base_uri": "https://localhost:8080/"
        },
        "id": "L5fv0ln0nhqR",
        "outputId": "e1923000-a6d1-4ed4-de59-35f7abb1e1c8"
      },
      "execution_count": null,
      "outputs": [
        {
          "output_type": "execute_result",
          "data": {
            "text/plain": [
              "[[9, 3], [23, 7]]"
            ]
          },
          "metadata": {},
          "execution_count": 121
        }
      ]
    },
    {
      "cell_type": "markdown",
      "source": [
        "## Improving traceability"
      ],
      "metadata": {
        "id": "mQClStA_noID"
      }
    },
    {
      "cell_type": "code",
      "source": [
        "price = 100 # GBP, no VAT\n",
        "final_price1 = price * 1.2\n",
        "final_price2 = price + price / 5.0\n",
        "final_price3 = price * (100 + 20) / 100.0\n",
        "final_price4 = price + price * 0.2"
      ],
      "metadata": {
        "id": "234JNvlvnpqx"
      },
      "execution_count": null,
      "outputs": []
    },
    {
      "cell_type": "code",
      "source": [
        "final_price1, final_price2, final_price3, final_price4"
      ],
      "metadata": {
        "colab": {
          "base_uri": "https://localhost:8080/"
        },
        "id": "QL3kEcrZnz-t",
        "outputId": "60f894f1-ba38-4b4a-f90a-5f893a315e58"
      },
      "execution_count": null,
      "outputs": [
        {
          "output_type": "execute_result",
          "data": {
            "text/plain": [
              "(120.0, 120.0, 120.0, 120.0)"
            ]
          },
          "metadata": {},
          "execution_count": 123
        }
      ]
    },
    {
      "cell_type": "code",
      "source": [
        "def calculate_price_with_vat(price, vat):\n",
        "  return price * (100 + vat) / 100"
      ],
      "metadata": {
        "id": "IqtE3sC3nsJj"
      },
      "execution_count": null,
      "outputs": []
    },
    {
      "cell_type": "code",
      "source": [
        "calculate_price_with_vat(price,5)"
      ],
      "metadata": {
        "colab": {
          "base_uri": "https://localhost:8080/"
        },
        "id": "tUchGJnKn34A",
        "outputId": "1a541829-0b35-4a05-d743-e043bcbbbc8e"
      },
      "execution_count": null,
      "outputs": [
        {
          "output_type": "execute_result",
          "data": {
            "text/plain": [
              "105.0"
            ]
          },
          "metadata": {},
          "execution_count": 125
        }
      ]
    },
    {
      "cell_type": "markdown",
      "source": [
        "##Scopes and name resolution"
      ],
      "metadata": {
        "id": "90GoSwFkoSsJ"
      }
    },
    {
      "cell_type": "code",
      "source": [
        "def my_function():\n",
        "  test = 1 # this is defined in the local scope of the function\n",
        "  print('my_function:', test)"
      ],
      "metadata": {
        "id": "-z2nhiGuoRVM"
      },
      "execution_count": null,
      "outputs": []
    },
    {
      "cell_type": "code",
      "source": [
        "test = 0 # this is defined in the global scope\n",
        "my_function()\n",
        "print('global:', test)"
      ],
      "metadata": {
        "colab": {
          "base_uri": "https://localhost:8080/"
        },
        "id": "NR-0BT49oWEe",
        "outputId": "4d7540cc-d973-4076-9256-e716daa347f8"
      },
      "execution_count": null,
      "outputs": [
        {
          "output_type": "stream",
          "name": "stdout",
          "text": [
            "my_function: 1\n",
            "global: 0\n"
          ]
        }
      ]
    },
    {
      "cell_type": "code",
      "source": [
        "def outer():\n",
        "  test = 1 # outer scope\n",
        "\n",
        "  def inner():\n",
        "    test = 2 # inner scope\n",
        "    print('inner:', test)\n",
        "\n",
        "  inner()\n",
        "  print('outer:', test)\n",
        "\n",
        "test = 0 # global scope\n",
        "outer()\n",
        "print('global:', test)"
      ],
      "metadata": {
        "colab": {
          "base_uri": "https://localhost:8080/"
        },
        "id": "goDdnh4KoX9s",
        "outputId": "f7f410e8-4c95-49c9-86e4-bbaf276c60b5"
      },
      "execution_count": null,
      "outputs": [
        {
          "output_type": "stream",
          "name": "stdout",
          "text": [
            "inner: 2\n",
            "outer: 1\n",
            "global: 0\n"
          ]
        }
      ]
    },
    {
      "cell_type": "markdown",
      "source": [
        "## The global and nonlocal statements"
      ],
      "metadata": {
        "id": "yHpXOy95olsW"
      }
    },
    {
      "cell_type": "code",
      "source": [
        "def outer():\n",
        "  test = 1 # outer scope\n",
        "\n",
        "  def inner():\n",
        "    nonlocal test\n",
        "    test = 2 # nearest enclosing scope (which is 'outer')\n",
        "    print('inner:', test)\n",
        "\n",
        "  inner()\n",
        "  print('outer:', test)\n",
        "\n",
        "test = 0 # global scope\n",
        "outer()\n",
        "print('global:', test)"
      ],
      "metadata": {
        "colab": {
          "base_uri": "https://localhost:8080/"
        },
        "id": "9TwhQO4fokQi",
        "outputId": "0fc08bf5-9c3b-44ea-8441-1fbc01c6dba9"
      },
      "execution_count": null,
      "outputs": [
        {
          "output_type": "stream",
          "name": "stdout",
          "text": [
            "inner: 2\n",
            "outer: 2\n",
            "global: 0\n"
          ]
        }
      ]
    },
    {
      "cell_type": "code",
      "source": [
        "# scoping.level.2.global.py\n",
        "def outer():\n",
        "  test = 1 # outer scope\n",
        "\n",
        "  def inner():\n",
        "    global test\n",
        "    test = 2 # global scope\n",
        "    print('inner:', test)\n",
        "\n",
        "  inner()\n",
        "  print('outer:', test)\n",
        "\n",
        "test = 0 # global scope\n",
        "outer()\n",
        "print('global:', test)"
      ],
      "metadata": {
        "colab": {
          "base_uri": "https://localhost:8080/"
        },
        "id": "cLbeEGeNoyR9",
        "outputId": "7760f94d-bfe2-4e7a-a6cf-00deb85f5a70"
      },
      "execution_count": null,
      "outputs": [
        {
          "output_type": "stream",
          "name": "stdout",
          "text": [
            "inner: 2\n",
            "outer: 1\n",
            "global: 2\n"
          ]
        }
      ]
    },
    {
      "cell_type": "markdown",
      "source": [
        "## Assignment to parameter names"
      ],
      "metadata": {
        "id": "p3kKepNDo-rs"
      }
    },
    {
      "cell_type": "code",
      "source": [
        "x = 3\n",
        "def func(x):\n",
        "  x = 7 # defining a local x, not changing the global one\n",
        "func(x)\n",
        "print(x) # prints: 3"
      ],
      "metadata": {
        "colab": {
          "base_uri": "https://localhost:8080/"
        },
        "id": "Lt7yKkxIpELv",
        "outputId": "6fbcefdc-13a2-4b76-eed0-81cc002dd553"
      },
      "execution_count": null,
      "outputs": [
        {
          "output_type": "stream",
          "name": "stdout",
          "text": [
            "3\n"
          ]
        }
      ]
    },
    {
      "cell_type": "markdown",
      "source": [
        "## Changing a mutable object"
      ],
      "metadata": {
        "id": "Gz781tKBpIHt"
      }
    },
    {
      "cell_type": "code",
      "source": [
        "x = [1, 2, 3]\n",
        "def func(x):\n",
        "  x[1] = 42 # this affects the 'x' argument!\n",
        "func(x)\n",
        "print(x) # prints: [1, 42, 3]"
      ],
      "metadata": {
        "colab": {
          "base_uri": "https://localhost:8080/"
        },
        "id": "8sHsWjmYpK0U",
        "outputId": "b4e67aab-50fa-4005-fb0b-69de7ba16a7b"
      },
      "execution_count": null,
      "outputs": [
        {
          "output_type": "stream",
          "name": "stdout",
          "text": [
            "[1, 42, 3]\n"
          ]
        }
      ]
    },
    {
      "cell_type": "code",
      "source": [
        "def func(x):\n",
        "  x[1] = 42 # this changes the original 'x' argument!\n",
        "  x = 'something else' # this points x to a new string object\n",
        "func(x)\n",
        "print(x) # still prints: [1, 42, 3]"
      ],
      "metadata": {
        "colab": {
          "base_uri": "https://localhost:8080/"
        },
        "id": "NXpAvo1kpYX6",
        "outputId": "a599b066-56d5-4ec3-99a6-93b15af649f4"
      },
      "execution_count": null,
      "outputs": [
        {
          "output_type": "stream",
          "name": "stdout",
          "text": [
            "[1, 42, 3]\n"
          ]
        }
      ]
    },
    {
      "cell_type": "markdown",
      "source": [
        "## Combining argument types"
      ],
      "metadata": {
        "id": "LRT-TOoppqDk"
      }
    },
    {
      "cell_type": "code",
      "source": [
        "def func(a, b, c, d, e, f):\n",
        "  print(a, b, c, d, e, f)"
      ],
      "metadata": {
        "id": "BlP_OZ0Hpbci"
      },
      "execution_count": null,
      "outputs": []
    },
    {
      "cell_type": "code",
      "source": [
        "func(1, *(2, 3), f=6, *(4, 5))\n",
        "func(*(1, 2), e=5, *(3, 4), f=6)\n",
        "func(1, **{'b': 2, 'c': 3}, d=4, **{'e': 5, 'f': 6})\n",
        "func(c=3, *(1, 2), **{'d': 4}, e=5, **{'f': 6})"
      ],
      "metadata": {
        "colab": {
          "base_uri": "https://localhost:8080/"
        },
        "id": "BsRflSKjpuy0",
        "outputId": "a0cf0714-9a6b-4868-9968-6035736abd4b"
      },
      "execution_count": null,
      "outputs": [
        {
          "output_type": "stream",
          "name": "stdout",
          "text": [
            "1 2 3 4 5 6\n",
            "1 2 3 4 5 6\n",
            "1 2 3 4 5 6\n",
            "1 2 3 4 5 6\n"
          ]
        }
      ]
    },
    {
      "cell_type": "markdown",
      "source": [
        "## Positional-only parameters"
      ],
      "metadata": {
        "id": "Am3d8xuYp6Rp"
      }
    },
    {
      "cell_type": "code",
      "source": [
        "def func(a, b, /, c):\n",
        "  print(a, b, c)"
      ],
      "metadata": {
        "id": "4epQU9kSp7eW"
      },
      "execution_count": null,
      "outputs": []
    },
    {
      "cell_type": "code",
      "source": [
        "func(1, 2, 3) # prints: 1 2 3\n",
        "func(1, 2, c=3) # prints 1 2 3"
      ],
      "metadata": {
        "colab": {
          "base_uri": "https://localhost:8080/"
        },
        "id": "WT75bxmfp87M",
        "outputId": "1cbb98d2-f494-4db4-f001-0fbe3d976f24"
      },
      "execution_count": null,
      "outputs": [
        {
          "output_type": "stream",
          "name": "stdout",
          "text": [
            "1 2 3\n",
            "1 2 3\n"
          ]
        }
      ]
    },
    {
      "cell_type": "code",
      "source": [
        "try:\n",
        "  func(1, b=2, c=3)\n",
        "except Exception as e:\n",
        "  print(e)"
      ],
      "metadata": {
        "colab": {
          "base_uri": "https://localhost:8080/"
        },
        "id": "7QEO8psFqHKQ",
        "outputId": "b0b07b52-55bb-46a7-b407-05eb11587a35"
      },
      "execution_count": null,
      "outputs": [
        {
          "output_type": "stream",
          "name": "stdout",
          "text": [
            "func() got some positional-only arguments passed as keyword arguments: 'b'\n"
          ]
        }
      ]
    },
    {
      "cell_type": "markdown",
      "source": [
        "## Keyword-only parameters"
      ],
      "metadata": {
        "id": "WXkM5ccJ1F6E"
      }
    },
    {
      "cell_type": "code",
      "source": [
        "def kwo(*a, c):\n",
        "  print(a, c)"
      ],
      "metadata": {
        "id": "5ac9C0Jp1HCk"
      },
      "execution_count": null,
      "outputs": []
    },
    {
      "cell_type": "code",
      "source": [
        "def kwo2(a, b=42, *, c):\n",
        "  print(a, b, c)"
      ],
      "metadata": {
        "id": "8zBLQPss1K39"
      },
      "execution_count": null,
      "outputs": []
    },
    {
      "cell_type": "code",
      "source": [
        "kwo(1, 2, 3, c=7) # prints: (1, 2, 3) 7\n",
        "kwo(c=4)"
      ],
      "metadata": {
        "colab": {
          "base_uri": "https://localhost:8080/"
        },
        "id": "wXhGQqOS1Mki",
        "outputId": "6483f5a3-5e70-43de-d12d-1bb6b3056bf5"
      },
      "execution_count": null,
      "outputs": [
        {
          "output_type": "stream",
          "name": "stdout",
          "text": [
            "(1, 2, 3) 7\n",
            "() 4\n"
          ]
        }
      ]
    },
    {
      "cell_type": "code",
      "source": [
        "kwo2(3, b=7, c=99) # prints: 3 7 99\n",
        "kwo2(3, c=13) # prints: 3 42 13"
      ],
      "metadata": {
        "colab": {
          "base_uri": "https://localhost:8080/"
        },
        "id": "HVQ2iRae1Ode",
        "outputId": "4264c9b3-0328-4b02-86e6-7c24c7be3d97"
      },
      "execution_count": null,
      "outputs": [
        {
          "output_type": "stream",
          "name": "stdout",
          "text": [
            "3 7 99\n",
            "3 42 13\n"
          ]
        }
      ]
    },
    {
      "cell_type": "code",
      "source": [
        "try:\n",
        "  kwo2(3, 7, 13) # prints: 3 42 13\n",
        "except Exception as e:\n",
        "  print(e)"
      ],
      "metadata": {
        "colab": {
          "base_uri": "https://localhost:8080/"
        },
        "id": "j-zWG3zf1V0D",
        "outputId": "2086ecd5-425a-4e76-8dc8-94af33443b95"
      },
      "execution_count": null,
      "outputs": [
        {
          "output_type": "stream",
          "name": "stdout",
          "text": [
            "kwo2() takes from 1 to 2 positional arguments but 3 were given\n"
          ]
        }
      ]
    },
    {
      "cell_type": "markdown",
      "source": [
        "##Avoid the trap! Mutable defaults"
      ],
      "metadata": {
        "id": "iJXSHl091kC5"
      }
    },
    {
      "cell_type": "code",
      "source": [
        "def func(a=[], b={}):\n",
        "  print(a)\n",
        "  print(b)\n",
        "  print('#' * 12)\n",
        "  a.append(len(a)) # this will affect a's default value\n",
        "  b[len(a)] = len(a)"
      ],
      "metadata": {
        "id": "Lo-Lo_XY1m3C"
      },
      "execution_count": null,
      "outputs": []
    },
    {
      "cell_type": "code",
      "source": [
        "func()\n",
        "func()\n",
        "func()"
      ],
      "metadata": {
        "colab": {
          "base_uri": "https://localhost:8080/"
        },
        "id": "FNogp-C91oso",
        "outputId": "24330411-1518-4c7a-bfa7-a4dbbda8da5f"
      },
      "execution_count": null,
      "outputs": [
        {
          "output_type": "stream",
          "name": "stdout",
          "text": [
            "[]\n",
            "{}\n",
            "############\n",
            "[0]\n",
            "{1: 1}\n",
            "############\n",
            "[0, 1]\n",
            "{1: 1, 2: 2}\n",
            "############\n"
          ]
        }
      ]
    },
    {
      "cell_type": "code",
      "source": [
        "func()\n",
        "func(a=[1, 2, 3], b={'B': 1})\n",
        "func()"
      ],
      "metadata": {
        "colab": {
          "base_uri": "https://localhost:8080/"
        },
        "id": "VbjrbLs41w9A",
        "outputId": "d97b57ec-ebc2-4473-d91a-d0898e005b7a"
      },
      "execution_count": null,
      "outputs": [
        {
          "output_type": "stream",
          "name": "stdout",
          "text": [
            "[0, 1, 2]\n",
            "{1: 1, 2: 2, 3: 3}\n",
            "############\n",
            "[1, 2, 3]\n",
            "{'B': 1}\n",
            "############\n",
            "[0, 1, 2, 3]\n",
            "{1: 1, 2: 2, 3: 3, 4: 4}\n",
            "############\n"
          ]
        }
      ]
    },
    {
      "cell_type": "markdown",
      "source": [
        "##Function attributes"
      ],
      "metadata": {
        "id": "mC0QizC42VZw"
      }
    },
    {
      "cell_type": "code",
      "source": [
        "def multiplication(a, b=1):\n",
        "  \"\"\"Return a multiplied by b. \"\"\"\n",
        "  return a * b\n",
        "\n",
        "if __name__ == \"__main__\":\n",
        "  special_attributes = [\n",
        "  \"__doc__\", \"__name__\", \"__qualname__\", \"__module__\",\n",
        "  \"__defaults__\", \"__code__\", \"__globals__\", \"__dict__\",\n",
        "  \"__closure__\", \"__annotations__\", \"__kwdefaults__\",\n",
        "  ]\n",
        "  for attribute in special_attributes:\n",
        "    print(attribute, '->', getattr(multiplication, attribute))"
      ],
      "metadata": {
        "colab": {
          "base_uri": "https://localhost:8080/"
        },
        "id": "RBqZwNvd2WZ7",
        "outputId": "5738d0d2-12cb-4965-cae9-7e177fba174b"
      },
      "execution_count": null,
      "outputs": [
        {
          "output_type": "stream",
          "name": "stdout",
          "text": [
            "__doc__ -> Return a multiplied by b. \n",
            "__name__ -> multiplication\n",
            "__qualname__ -> multiplication\n",
            "__module__ -> __main__\n",
            "__defaults__ -> (1,)\n",
            "__code__ -> <code object multiplication at 0x7ee60873eb80, file \"<ipython-input-147-a4d7d14d9b98>\", line 1>\n",
            "__globals__ -> {'__name__': '__main__', '__doc__': 'Automatically created module for IPython interactive environment', '__package__': None, '__loader__': None, '__spec__': None, '__builtin__': <module 'builtins' (built-in)>, '__builtins__': <module 'builtins' (built-in)>, '_ih': ['', '3 + 7', '10 / 4', '2 ** 1024', 'from math import factorial', 'factorial(5)', 'n = 3  # integer number', 'address = \"221b Baker Street, NW1 6XE, London\"  # Sherlock Holmes\\'', \"employee = {\\n    'age': 45,\\n    'role': 'CTO',\\n    'SSN': 'AB1234567',\\n}\", 'n, address, employee', 'try:\\n    print(another_name)\\nexcept NameError:\\n    print(\"NameError: name \\'another_name\\' is not defined\")', '# scopes1.py\\n# Local versus Global\\n# we define a function, called local\\ndef local():\\n\\n    m = 7\\n\\n    print(m)', '# we define m within the global scope\\nm = 5\\n# we call, or `execute` the function local\\nlocal()\\nprint(m)', \"# scopes2.py\\n# Local versus Global\\ndef local():\\n    # m doesn't belong to the scope defined by the local function\\n    # so Python will keep looking into the next enclosing scope.\\n    # m is finally found in the global scope\\n    print(m, 'printing from the local scope')\", \"m = 5\\nprint(m, 'printing from the global scope')\\nlocal()\", '# scopes3.py\\n# Local, Enclosing and Global\\ndef enclosing_func():\\n    m = 13', \"def local():\\n    # m doesn't belong to the scope defined by the local\\n    # function so Python will keep looking into the next\\n    # enclosing scope. This time m is found in the enclosing\\n    # scope\\n    print(m, 'printing from the local scope')\", \"# calling the function local\\ntry:\\n    local()\\nexcept Exception as e:\\n    print(e)\\nm = 5\\nprint(m, 'printing from the global scope')\\nenclosing_func()\", '# let\\'s define the class Bike\\nclass Bike:\\n    def __init__(self, colour, frame_material):\\n        self.colour = colour\\n        self.frame_material = frame_material\\n\\n    def brake(self):\\n        print(\"Braking!\")', \"# let's create a couple of instances\\nred_bike = Bike('Red', 'Carbon fiber')\\nblue_bike = Bike('Blue', 'Steel')\", 'red_bike.colour,  red_bike.frame_material,  blue_bike.colour,  blue_bike.frame_material', 'red_bike.brake()', 'import this', 'age = 42', 'age', 'id(age)', 'age = 43', 'age', 'id(age)', 'class Person:\\n    def __init__(self, age):\\n      self.age = age', 'fab = Person(age=42)', 'fab.age', 'id(fab)', 'id(fab.age)', 'fab.age = 25', 'id(fab)', 'id(fab.age)', 'a = 14', 'b = 3', 'a + b # addition', 'a - b # subtraction', 'a * b # multiplication', 'a / b # true division', 'a // b # integer division', 'a % b # modulo operation (reminder of division)', 'a ** b # power operation', 'bytearray()', 'bytearray(10)', 'bytearray(range(5))', \"name = bytearray(b'Lina')\", 'name', \"name.replace(b'L', b'l')\", \"name.endswith(b'na')\", 'from datetime import date, datetime, timedelta, timezone\\nimport time\\nimport calendar as cal\\nfrom zoneinfo import ZoneInfo', 'today = date.today()\\ntoday', 'today.ctime()', 'today.isoformat()', 'today.weekday()', 'cal.day_name[today.weekday()]', 'today.day, today.month, today.year', 'today.timetuple()', 'time.ctime()', 'time.gmtime()', 'time.gmtime(0)', 'time.localtime()', 'time.time()', 'now = datetime.now()\\nutcnow = datetime.utcnow()\\nnow, utcnow', 'now.date()', 'now.day, now.month, now.year', 'now.date() == date.today()', 'now.time()', 'now.hour, now.minute, now.second, now.microsecond', 'now.ctime()', 'now.isoformat()', 'now.timetuple()', 'now.tzinfo\\nutcnow.tzinfo\\nnow.weekday()', \"f_bday = datetime(\\n1975, 12, 29, 12, 50, tzinfo=ZoneInfo('Europe/Rome')\\n)\\nh_bday = datetime(\\n1981, 10, 7, 15, 30, 50, tzinfo=timezone(timedelta(hours=2))\\n)\\ndiff = h_bday - f_bday\\ndiff, type(diff)\", 'diff.days, diff.total_seconds()', 'today + timedelta(days=49)', 'now + timedelta(weeks=7)', \"datetime.fromisoformat('1977-11-24T19:30:13+01:00')\", 'datetime.fromtimestamp(time.time())', \"get_ipython().system('pip install arrow')\", 'import arrow', 'arrow.utcnow()', \"local = arrow.now('Europe/Rome')\\nlocal\", \"local.to('utc')\", \"local.to('Europe/Moscow')\", \"local.to('Asia/Tokyo')\", 'local.datetime', 'local.isoformat()', 'vision = (9.5, 8.8)\\nvision', 'vision[0]', 'vision[1]', 'from collections import namedtuple', \"Vision = namedtuple('Vision', ['left', 'right'])\\nvision = Vision(9.5, 8.8)\\nvision[0]\", 'vision.left', 'vision.right', \"d = {}\\nd['age'] = d.get('age', 0) + 1 # age not there, we get 0 + 1\\nd\", \"d = {'age': 39}\\nd['age'] = d.get('age', 0) + 1 # age is there, we get 40\\nd\", 'from collections import defaultdict\\ndd = defaultdict(int) # int is the default type (0 the value)\\ndd', \"dd['age'] += 1 # short for dd['age'] = dd['age'] + 1\\ndd\", 'from collections import ChainMap', \"default_connection = {'host': 'localhost', 'port': 4567}\\nconnection = {'port': 5678}\\nconn = ChainMap(connection, default_connection) # map creation\\nconn['port'],conn['host']\", 'conn.maps', \"conn['host'] = 'packtpub.com' # let's add host\\nconn.maps\", \"del conn['port'] # let's remove the port information\\nconn.maps\", \"conn['port']\", 'dict(conn)', 'a = 1000000\\nb = 1000000\\nid(a) == id(b)', 'a = 5\\nb = 5\\nid(a) == id(b)', 'from itertools import count', \"for n in count(5, 3):\\n  if n > 20:\\n    break\\n  print(n, end=', ')\", 'from itertools import compress', 'data = range(10)\\neven_selector = [1, 0] * 10\\nodd_selector = [0, 1] * 10\\n\\nlist(data), even_selector, odd_selector', 'even_numbers = list(compress(data, even_selector))\\nodd_numbers = list(compress(data, odd_selector))\\n\\neven_numbers, odd_numbers', 'from itertools import permutations', \"print(list(permutations('ABC')))\", 'a = [[1, 2], [3, 4]]\\nb = [[5, 1], [2, 1]]', 'c = [[sum(i * j for i, j in zip(r, c)) for c in zip(*b)]\\nfor r in a]\\nc', 'def matrix_mul(a, b):\\n  return [[sum(i * j for i, j in zip(r, c)) for c in zip(*b)]\\n  for r in a]', 'c = matrix_mul(a, b)\\nc', 'price = 100 # GBP, no VAT\\nfinal_price1 = price * 1.2\\nfinal_price2 = price + price / 5.0\\nfinal_price3 = price * (100 + 20) / 100.0\\nfinal_price4 = price + price * 0.2', 'final_price1, final_price2, final_price3, final_price4', 'def calculate_price_with_vat(price, vat):\\n  return price * (100 + vat) / 100', 'calculate_price_with_vat(price,5)', \"def my_function():\\n  test = 1 # this is defined in the local scope of the function\\n  print('my_function:', test)\", \"test = 0 # this is defined in the global scope\\nmy_function()\\nprint('global:', test)\", \"def outer():\\n  test = 1 # outer scope\\n\\n  def inner():\\n    test = 2 # inner scope\\n    print('inner:', test)\\n\\n  inner()\\n  print('outer:', test)\\n\\ntest = 0 # global scope\\nouter()\\nprint('global:', test)\", \"def outer():\\n  test = 1 # outer scope\\n\\n  def inner():\\n    nonlocal test\\n    test = 2 # nearest enclosing scope (which is 'outer')\\n    print('inner:', test)\\n\\n  inner()\\n  print('outer:', test)\\n\\ntest = 0 # global scope\\nouter()\\nprint('global:', test)\", \"# scoping.level.2.global.py\\ndef outer():\\n  test = 1 # outer scope\\n\\n  def inner():\\n    global test\\n    test = 2 # global scope\\n    print('inner:', test)\\n\\n  inner()\\n  print('outer:', test)\\n\\ntest = 0 # global scope\\nouter()\\nprint('global:', test)\", 'x = 3\\ndef func(x):\\n  x = 7 # defining a local x, not changing the global one\\nfunc(x)\\nprint(x) # prints: 3', \"x = [1, 2, 3]\\ndef func(x):\\n  x[1] = 42 # this affects the 'x' argument!\\nfunc(x)\\nprint(x) # prints: [1, 42, 3]\", \"def func(x):\\n  x[1] = 42 # this changes the original 'x' argument!\\n  x = 'something else' # this points x to a new string object\\nfunc(x)\\nprint(x) # still prints: [1, 42, 3]\", 'def func(a, b, c, d, e, f):\\n  print(a, b, c, d, e, f)', \"func(1, *(2, 3), f=6, *(4, 5))\\nfunc(*(1, 2), e=5, *(3, 4), f=6)\\nfunc(1, **{'b': 2, 'c': 3}, d=4, **{'e': 5, 'f': 6})\\nfunc(c=3, *(1, 2), **{'d': 4}, e=5, **{'f': 6})\", 'def func(a, b, /, c):\\n  print(a, b, c)', 'func(1, 2, 3) # prints: 1 2 3\\nfunc(1, 2, c=3) # prints 1 2 3', 'try:\\n  func(1, b=2, c=3)\\nexcept Exception as e:\\n  print(e)', 'def kwo(*a, c):\\n  print(a, c)', 'def kwo2(a, b=42, *, c):\\n  print(a, b, c)', 'kwo(1, 2, 3, c=7) # prints: (1, 2, 3) 7\\nkwo(c=4)', 'kwo2(3, b=7, c=99) # prints: 3 7 99\\nkwo2(3, c=13) # prints: 3 42 13', 'try:\\n  kwo2(3, 7, 13) # prints: 3 42 13\\nexcept Exception as e:\\n  print(e)', \"def func(a=[], b={}):\\n  print(a)\\n  print(b)\\n  print('#' * 12)\\n  a.append(len(a)) # this will affect a's default value\\n  b[len(a)] = len(a)\", 'func()\\nfunc()\\nfunc()', \"func()\\nfunc(a=[1, 2, 3], b={'B': 1})\\nfunc()\", 'def multiplication(a, b=1):\\n  \"\"\"Return a multiplied by b. \"\"\"\\n  return a * b\\n\\nif __name__ == \"__main__\":\\n  special_attributes = [\\n  \"__doc__\", \"__name__\", \"__qualname__\", \"__module__\",\\n  \"__defaults__\", \"__code__\", \"__globals__\", \"__dict__\",\\n  \"__closure__\", \"__annotations__\", \"__kwdefaults__\",\\n  ]\\n  for attribute in special_attributes:\\n    print(attribute, \\'->\\', getattr(multiplication, attribute))'], '_oh': {1: 10, 2: 2.5, 3: 179769313486231590772930519078902473361797697894230657273430081157732675805500963132708477322407536021120113879871393357658789768814416622492847430639474124377767893424865485276302219601246094119453082952085005768838150682342462881473913110540827237163350510684586298239947245938479716304835356329624224137216, 5: 120, 9: (3, '221b Baker Street, NW1 6XE, London', {'age': 45, 'role': 'CTO', 'SSN': 'AB1234567'}), 20: ('Red', 'Carbon fiber', 'Blue', 'Steel'), 24: 42, 25: 139526911886864, 27: 43, 28: 139526911886896, 31: 42, 32: 139526483476336, 33: 139526911886864, 35: 139526483476336, 36: 139526911886320, 39: 17, 40: 11, 41: 42, 42: 4.666666666666667, 43: 4, 44: 2, 45: 2744, 46: bytearray(b''), 47: bytearray(b'\\x00\\x00\\x00\\x00\\x00\\x00\\x00\\x00\\x00\\x00'), 48: bytearray(b'\\x00\\x01\\x02\\x03\\x04'), 50: bytearray(b'Lina'), 51: bytearray(b'lina'), 52: True, 54: datetime.date(2023, 9, 12), 55: 'Tue Sep 12 00:00:00 2023', 56: '2023-09-12', 57: 1, 58: 'Tuesday', 59: (12, 9, 2023), 60: time.struct_time(tm_year=2023, tm_mon=9, tm_mday=12, tm_hour=0, tm_min=0, tm_sec=0, tm_wday=1, tm_yday=255, tm_isdst=-1), 61: 'Tue Sep 12 19:40:44 2023', 62: time.struct_time(tm_year=2023, tm_mon=9, tm_mday=12, tm_hour=19, tm_min=40, tm_sec=44, tm_wday=1, tm_yday=255, tm_isdst=0), 63: time.struct_time(tm_year=1970, tm_mon=1, tm_mday=1, tm_hour=0, tm_min=0, tm_sec=0, tm_wday=3, tm_yday=1, tm_isdst=0), 64: time.struct_time(tm_year=2023, tm_mon=9, tm_mday=12, tm_hour=19, tm_min=40, tm_sec=44, tm_wday=1, tm_yday=255, tm_isdst=0), 65: 1694547644.6433678, 66: (datetime.datetime(2023, 9, 12, 19, 40, 44, 656525), datetime.datetime(2023, 9, 12, 19, 40, 44, 656581)), 67: datetime.date(2023, 9, 12), 68: (12, 9, 2023), 69: True, 70: datetime.time(19, 40, 44, 656525), 71: (19, 40, 44, 656525), 72: 'Tue Sep 12 19:40:44 2023', 73: '2023-09-12T19:40:44.656525', 74: time.struct_time(tm_year=2023, tm_mon=9, tm_mday=12, tm_hour=19, tm_min=40, tm_sec=44, tm_wday=1, tm_yday=255, tm_isdst=-1), 75: 1, 76: (datetime.timedelta(days=2109, seconds=6050), <class 'datetime.timedelta'>), 77: (2109, 182223650.0), 78: datetime.date(2023, 10, 31), 79: datetime.datetime(2023, 10, 31, 19, 40, 44, 656525), 80: datetime.datetime(1977, 11, 24, 19, 30, 13, tzinfo=datetime.timezone(datetime.timedelta(seconds=3600))), 81: datetime.datetime(2023, 9, 12, 19, 40, 44, 966684), 84: <Arrow [2023-09-12T19:40:55.899331+00:00]>, 85: <Arrow [2023-09-12T21:40:55.952450+02:00]>, 86: <Arrow [2023-09-12T19:40:55.952450+00:00]>, 87: <Arrow [2023-09-12T22:40:55.952450+03:00]>, 88: <Arrow [2023-09-13T04:40:55.952450+09:00]>, 89: datetime.datetime(2023, 9, 12, 21, 40, 55, 952450, tzinfo=tzfile('/usr/share/zoneinfo/Europe/Rome')), 90: '2023-09-12T21:40:55.952450+02:00', 91: (9.5, 8.8), 92: 9.5, 93: 8.8, 95: 9.5, 96: 9.5, 97: 8.8, 98: {'age': 1}, 99: {'age': 40}, 100: defaultdict(<class 'int'>, {'age': 1}), 101: defaultdict(<class 'int'>, {'age': 1}), 103: (5678, 'localhost'), 104: [{'host': 'packtpub.com'}, {'host': 'localhost', 'port': 4567}], 105: [{'host': 'packtpub.com'}, {'host': 'localhost', 'port': 4567}], 106: [{'host': 'packtpub.com'}, {'host': 'localhost', 'port': 4567}], 107: 4567, 108: {'host': 'packtpub.com', 'port': 4567}, 109: False, 110: True, 114: ([0, 1, 2, 3, 4, 5, 6, 7, 8, 9], [1, 0, 1, 0, 1, 0, 1, 0, 1, 0, 1, 0, 1, 0, 1, 0, 1, 0, 1, 0], [0, 1, 0, 1, 0, 1, 0, 1, 0, 1, 0, 1, 0, 1, 0, 1, 0, 1, 0, 1]), 115: ([0, 2, 4, 6, 8], [1, 3, 5, 7, 9]), 119: [[9, 3], [23, 7]], 121: [[9, 3], [23, 7]], 123: (120.0, 120.0, 120.0, 120.0), 125: 105.0}, '_dh': ['/content'], 'In': ['', '3 + 7', '10 / 4', '2 ** 1024', 'from math import factorial', 'factorial(5)', 'n = 3  # integer number', 'address = \"221b Baker Street, NW1 6XE, London\"  # Sherlock Holmes\\'', \"employee = {\\n    'age': 45,\\n    'role': 'CTO',\\n    'SSN': 'AB1234567',\\n}\", 'n, address, employee', 'try:\\n    print(another_name)\\nexcept NameError:\\n    print(\"NameError: name \\'another_name\\' is not defined\")', '# scopes1.py\\n# Local versus Global\\n# we define a function, called local\\ndef local():\\n\\n    m = 7\\n\\n    print(m)', '# we define m within the global scope\\nm = 5\\n# we call, or `execute` the function local\\nlocal()\\nprint(m)', \"# scopes2.py\\n# Local versus Global\\ndef local():\\n    # m doesn't belong to the scope defined by the local function\\n    # so Python will keep looking into the next enclosing scope.\\n    # m is finally found in the global scope\\n    print(m, 'printing from the local scope')\", \"m = 5\\nprint(m, 'printing from the global scope')\\nlocal()\", '# scopes3.py\\n# Local, Enclosing and Global\\ndef enclosing_func():\\n    m = 13', \"def local():\\n    # m doesn't belong to the scope defined by the local\\n    # function so Python will keep looking into the next\\n    # enclosing scope. This time m is found in the enclosing\\n    # scope\\n    print(m, 'printing from the local scope')\", \"# calling the function local\\ntry:\\n    local()\\nexcept Exception as e:\\n    print(e)\\nm = 5\\nprint(m, 'printing from the global scope')\\nenclosing_func()\", '# let\\'s define the class Bike\\nclass Bike:\\n    def __init__(self, colour, frame_material):\\n        self.colour = colour\\n        self.frame_material = frame_material\\n\\n    def brake(self):\\n        print(\"Braking!\")', \"# let's create a couple of instances\\nred_bike = Bike('Red', 'Carbon fiber')\\nblue_bike = Bike('Blue', 'Steel')\", 'red_bike.colour,  red_bike.frame_material,  blue_bike.colour,  blue_bike.frame_material', 'red_bike.brake()', 'import this', 'age = 42', 'age', 'id(age)', 'age = 43', 'age', 'id(age)', 'class Person:\\n    def __init__(self, age):\\n      self.age = age', 'fab = Person(age=42)', 'fab.age', 'id(fab)', 'id(fab.age)', 'fab.age = 25', 'id(fab)', 'id(fab.age)', 'a = 14', 'b = 3', 'a + b # addition', 'a - b # subtraction', 'a * b # multiplication', 'a / b # true division', 'a // b # integer division', 'a % b # modulo operation (reminder of division)', 'a ** b # power operation', 'bytearray()', 'bytearray(10)', 'bytearray(range(5))', \"name = bytearray(b'Lina')\", 'name', \"name.replace(b'L', b'l')\", \"name.endswith(b'na')\", 'from datetime import date, datetime, timedelta, timezone\\nimport time\\nimport calendar as cal\\nfrom zoneinfo import ZoneInfo', 'today = date.today()\\ntoday', 'today.ctime()', 'today.isoformat()', 'today.weekday()', 'cal.day_name[today.weekday()]', 'today.day, today.month, today.year', 'today.timetuple()', 'time.ctime()', 'time.gmtime()', 'time.gmtime(0)', 'time.localtime()', 'time.time()', 'now = datetime.now()\\nutcnow = datetime.utcnow()\\nnow, utcnow', 'now.date()', 'now.day, now.month, now.year', 'now.date() == date.today()', 'now.time()', 'now.hour, now.minute, now.second, now.microsecond', 'now.ctime()', 'now.isoformat()', 'now.timetuple()', 'now.tzinfo\\nutcnow.tzinfo\\nnow.weekday()', \"f_bday = datetime(\\n1975, 12, 29, 12, 50, tzinfo=ZoneInfo('Europe/Rome')\\n)\\nh_bday = datetime(\\n1981, 10, 7, 15, 30, 50, tzinfo=timezone(timedelta(hours=2))\\n)\\ndiff = h_bday - f_bday\\ndiff, type(diff)\", 'diff.days, diff.total_seconds()', 'today + timedelta(days=49)', 'now + timedelta(weeks=7)', \"datetime.fromisoformat('1977-11-24T19:30:13+01:00')\", 'datetime.fromtimestamp(time.time())', \"get_ipython().system('pip install arrow')\", 'import arrow', 'arrow.utcnow()', \"local = arrow.now('Europe/Rome')\\nlocal\", \"local.to('utc')\", \"local.to('Europe/Moscow')\", \"local.to('Asia/Tokyo')\", 'local.datetime', 'local.isoformat()', 'vision = (9.5, 8.8)\\nvision', 'vision[0]', 'vision[1]', 'from collections import namedtuple', \"Vision = namedtuple('Vision', ['left', 'right'])\\nvision = Vision(9.5, 8.8)\\nvision[0]\", 'vision.left', 'vision.right', \"d = {}\\nd['age'] = d.get('age', 0) + 1 # age not there, we get 0 + 1\\nd\", \"d = {'age': 39}\\nd['age'] = d.get('age', 0) + 1 # age is there, we get 40\\nd\", 'from collections import defaultdict\\ndd = defaultdict(int) # int is the default type (0 the value)\\ndd', \"dd['age'] += 1 # short for dd['age'] = dd['age'] + 1\\ndd\", 'from collections import ChainMap', \"default_connection = {'host': 'localhost', 'port': 4567}\\nconnection = {'port': 5678}\\nconn = ChainMap(connection, default_connection) # map creation\\nconn['port'],conn['host']\", 'conn.maps', \"conn['host'] = 'packtpub.com' # let's add host\\nconn.maps\", \"del conn['port'] # let's remove the port information\\nconn.maps\", \"conn['port']\", 'dict(conn)', 'a = 1000000\\nb = 1000000\\nid(a) == id(b)', 'a = 5\\nb = 5\\nid(a) == id(b)', 'from itertools import count', \"for n in count(5, 3):\\n  if n > 20:\\n    break\\n  print(n, end=', ')\", 'from itertools import compress', 'data = range(10)\\neven_selector = [1, 0] * 10\\nodd_selector = [0, 1] * 10\\n\\nlist(data), even_selector, odd_selector', 'even_numbers = list(compress(data, even_selector))\\nodd_numbers = list(compress(data, odd_selector))\\n\\neven_numbers, odd_numbers', 'from itertools import permutations', \"print(list(permutations('ABC')))\", 'a = [[1, 2], [3, 4]]\\nb = [[5, 1], [2, 1]]', 'c = [[sum(i * j for i, j in zip(r, c)) for c in zip(*b)]\\nfor r in a]\\nc', 'def matrix_mul(a, b):\\n  return [[sum(i * j for i, j in zip(r, c)) for c in zip(*b)]\\n  for r in a]', 'c = matrix_mul(a, b)\\nc', 'price = 100 # GBP, no VAT\\nfinal_price1 = price * 1.2\\nfinal_price2 = price + price / 5.0\\nfinal_price3 = price * (100 + 20) / 100.0\\nfinal_price4 = price + price * 0.2', 'final_price1, final_price2, final_price3, final_price4', 'def calculate_price_with_vat(price, vat):\\n  return price * (100 + vat) / 100', 'calculate_price_with_vat(price,5)', \"def my_function():\\n  test = 1 # this is defined in the local scope of the function\\n  print('my_function:', test)\", \"test = 0 # this is defined in the global scope\\nmy_function()\\nprint('global:', test)\", \"def outer():\\n  test = 1 # outer scope\\n\\n  def inner():\\n    test = 2 # inner scope\\n    print('inner:', test)\\n\\n  inner()\\n  print('outer:', test)\\n\\ntest = 0 # global scope\\nouter()\\nprint('global:', test)\", \"def outer():\\n  test = 1 # outer scope\\n\\n  def inner():\\n    nonlocal test\\n    test = 2 # nearest enclosing scope (which is 'outer')\\n    print('inner:', test)\\n\\n  inner()\\n  print('outer:', test)\\n\\ntest = 0 # global scope\\nouter()\\nprint('global:', test)\", \"# scoping.level.2.global.py\\ndef outer():\\n  test = 1 # outer scope\\n\\n  def inner():\\n    global test\\n    test = 2 # global scope\\n    print('inner:', test)\\n\\n  inner()\\n  print('outer:', test)\\n\\ntest = 0 # global scope\\nouter()\\nprint('global:', test)\", 'x = 3\\ndef func(x):\\n  x = 7 # defining a local x, not changing the global one\\nfunc(x)\\nprint(x) # prints: 3', \"x = [1, 2, 3]\\ndef func(x):\\n  x[1] = 42 # this affects the 'x' argument!\\nfunc(x)\\nprint(x) # prints: [1, 42, 3]\", \"def func(x):\\n  x[1] = 42 # this changes the original 'x' argument!\\n  x = 'something else' # this points x to a new string object\\nfunc(x)\\nprint(x) # still prints: [1, 42, 3]\", 'def func(a, b, c, d, e, f):\\n  print(a, b, c, d, e, f)', \"func(1, *(2, 3), f=6, *(4, 5))\\nfunc(*(1, 2), e=5, *(3, 4), f=6)\\nfunc(1, **{'b': 2, 'c': 3}, d=4, **{'e': 5, 'f': 6})\\nfunc(c=3, *(1, 2), **{'d': 4}, e=5, **{'f': 6})\", 'def func(a, b, /, c):\\n  print(a, b, c)', 'func(1, 2, 3) # prints: 1 2 3\\nfunc(1, 2, c=3) # prints 1 2 3', 'try:\\n  func(1, b=2, c=3)\\nexcept Exception as e:\\n  print(e)', 'def kwo(*a, c):\\n  print(a, c)', 'def kwo2(a, b=42, *, c):\\n  print(a, b, c)', 'kwo(1, 2, 3, c=7) # prints: (1, 2, 3) 7\\nkwo(c=4)', 'kwo2(3, b=7, c=99) # prints: 3 7 99\\nkwo2(3, c=13) # prints: 3 42 13', 'try:\\n  kwo2(3, 7, 13) # prints: 3 42 13\\nexcept Exception as e:\\n  print(e)', \"def func(a=[], b={}):\\n  print(a)\\n  print(b)\\n  print('#' * 12)\\n  a.append(len(a)) # this will affect a's default value\\n  b[len(a)] = len(a)\", 'func()\\nfunc()\\nfunc()', \"func()\\nfunc(a=[1, 2, 3], b={'B': 1})\\nfunc()\", 'def multiplication(a, b=1):\\n  \"\"\"Return a multiplied by b. \"\"\"\\n  return a * b\\n\\nif __name__ == \"__main__\":\\n  special_attributes = [\\n  \"__doc__\", \"__name__\", \"__qualname__\", \"__module__\",\\n  \"__defaults__\", \"__code__\", \"__globals__\", \"__dict__\",\\n  \"__closure__\", \"__annotations__\", \"__kwdefaults__\",\\n  ]\\n  for attribute in special_attributes:\\n    print(attribute, \\'->\\', getattr(multiplication, attribute))'], 'Out': {1: 10, 2: 2.5, 3: 179769313486231590772930519078902473361797697894230657273430081157732675805500963132708477322407536021120113879871393357658789768814416622492847430639474124377767893424865485276302219601246094119453082952085005768838150682342462881473913110540827237163350510684586298239947245938479716304835356329624224137216, 5: 120, 9: (3, '221b Baker Street, NW1 6XE, London', {'age': 45, 'role': 'CTO', 'SSN': 'AB1234567'}), 20: ('Red', 'Carbon fiber', 'Blue', 'Steel'), 24: 42, 25: 139526911886864, 27: 43, 28: 139526911886896, 31: 42, 32: 139526483476336, 33: 139526911886864, 35: 139526483476336, 36: 139526911886320, 39: 17, 40: 11, 41: 42, 42: 4.666666666666667, 43: 4, 44: 2, 45: 2744, 46: bytearray(b''), 47: bytearray(b'\\x00\\x00\\x00\\x00\\x00\\x00\\x00\\x00\\x00\\x00'), 48: bytearray(b'\\x00\\x01\\x02\\x03\\x04'), 50: bytearray(b'Lina'), 51: bytearray(b'lina'), 52: True, 54: datetime.date(2023, 9, 12), 55: 'Tue Sep 12 00:00:00 2023', 56: '2023-09-12', 57: 1, 58: 'Tuesday', 59: (12, 9, 2023), 60: time.struct_time(tm_year=2023, tm_mon=9, tm_mday=12, tm_hour=0, tm_min=0, tm_sec=0, tm_wday=1, tm_yday=255, tm_isdst=-1), 61: 'Tue Sep 12 19:40:44 2023', 62: time.struct_time(tm_year=2023, tm_mon=9, tm_mday=12, tm_hour=19, tm_min=40, tm_sec=44, tm_wday=1, tm_yday=255, tm_isdst=0), 63: time.struct_time(tm_year=1970, tm_mon=1, tm_mday=1, tm_hour=0, tm_min=0, tm_sec=0, tm_wday=3, tm_yday=1, tm_isdst=0), 64: time.struct_time(tm_year=2023, tm_mon=9, tm_mday=12, tm_hour=19, tm_min=40, tm_sec=44, tm_wday=1, tm_yday=255, tm_isdst=0), 65: 1694547644.6433678, 66: (datetime.datetime(2023, 9, 12, 19, 40, 44, 656525), datetime.datetime(2023, 9, 12, 19, 40, 44, 656581)), 67: datetime.date(2023, 9, 12), 68: (12, 9, 2023), 69: True, 70: datetime.time(19, 40, 44, 656525), 71: (19, 40, 44, 656525), 72: 'Tue Sep 12 19:40:44 2023', 73: '2023-09-12T19:40:44.656525', 74: time.struct_time(tm_year=2023, tm_mon=9, tm_mday=12, tm_hour=19, tm_min=40, tm_sec=44, tm_wday=1, tm_yday=255, tm_isdst=-1), 75: 1, 76: (datetime.timedelta(days=2109, seconds=6050), <class 'datetime.timedelta'>), 77: (2109, 182223650.0), 78: datetime.date(2023, 10, 31), 79: datetime.datetime(2023, 10, 31, 19, 40, 44, 656525), 80: datetime.datetime(1977, 11, 24, 19, 30, 13, tzinfo=datetime.timezone(datetime.timedelta(seconds=3600))), 81: datetime.datetime(2023, 9, 12, 19, 40, 44, 966684), 84: <Arrow [2023-09-12T19:40:55.899331+00:00]>, 85: <Arrow [2023-09-12T21:40:55.952450+02:00]>, 86: <Arrow [2023-09-12T19:40:55.952450+00:00]>, 87: <Arrow [2023-09-12T22:40:55.952450+03:00]>, 88: <Arrow [2023-09-13T04:40:55.952450+09:00]>, 89: datetime.datetime(2023, 9, 12, 21, 40, 55, 952450, tzinfo=tzfile('/usr/share/zoneinfo/Europe/Rome')), 90: '2023-09-12T21:40:55.952450+02:00', 91: (9.5, 8.8), 92: 9.5, 93: 8.8, 95: 9.5, 96: 9.5, 97: 8.8, 98: {'age': 1}, 99: {'age': 40}, 100: defaultdict(<class 'int'>, {'age': 1}), 101: defaultdict(<class 'int'>, {'age': 1}), 103: (5678, 'localhost'), 104: [{'host': 'packtpub.com'}, {'host': 'localhost', 'port': 4567}], 105: [{'host': 'packtpub.com'}, {'host': 'localhost', 'port': 4567}], 106: [{'host': 'packtpub.com'}, {'host': 'localhost', 'port': 4567}], 107: 4567, 108: {'host': 'packtpub.com', 'port': 4567}, 109: False, 110: True, 114: ([0, 1, 2, 3, 4, 5, 6, 7, 8, 9], [1, 0, 1, 0, 1, 0, 1, 0, 1, 0, 1, 0, 1, 0, 1, 0, 1, 0, 1, 0], [0, 1, 0, 1, 0, 1, 0, 1, 0, 1, 0, 1, 0, 1, 0, 1, 0, 1, 0, 1]), 115: ([0, 2, 4, 6, 8], [1, 3, 5, 7, 9]), 119: [[9, 3], [23, 7]], 121: [[9, 3], [23, 7]], 123: (120.0, 120.0, 120.0, 120.0), 125: 105.0}, 'get_ipython': <bound method InteractiveShell.get_ipython of <google.colab._shell.Shell object at 0x7ee61bb0e0b0>>, 'exit': <IPython.core.autocall.ZMQExitAutocall object at 0x7ee61bb0e650>, 'quit': <IPython.core.autocall.ZMQExitAutocall object at 0x7ee61bb0e650>, '_': 105.0, '__': (120.0, 120.0, 120.0, 120.0), '___': [[9, 3], [23, 7]], '_i': \"func()\\nfunc(a=[1, 2, 3], b={'B': 1})\\nfunc()\", '_ii': 'func()\\nfunc()\\nfunc()', '_iii': \"def func(a=[], b={}):\\n  print(a)\\n  print(b)\\n  print('#' * 12)\\n  a.append(len(a)) # this will affect a's default value\\n  b[len(a)] = len(a)\", '_i1': '3 + 7', '_1': 10, '_i2': '10 / 4', '_2': 2.5, '_i3': '2 ** 1024', '_3': 179769313486231590772930519078902473361797697894230657273430081157732675805500963132708477322407536021120113879871393357658789768814416622492847430639474124377767893424865485276302219601246094119453082952085005768838150682342462881473913110540827237163350510684586298239947245938479716304835356329624224137216, '_i4': 'from math import factorial', 'factorial': <built-in function factorial>, '_i5': 'factorial(5)', '_5': 120, '_i6': 'n = 3  # integer number', 'n': 23, '_i7': 'address = \"221b Baker Street, NW1 6XE, London\"  # Sherlock Holmes\\'', 'address': '221b Baker Street, NW1 6XE, London', '_i8': \"employee = {\\n    'age': 45,\\n    'role': 'CTO',\\n    'SSN': 'AB1234567',\\n}\", 'employee': {'age': 45, 'role': 'CTO', 'SSN': 'AB1234567'}, '_i9': 'n, address, employee', '_9': (3, '221b Baker Street, NW1 6XE, London', {'age': 45, 'role': 'CTO', 'SSN': 'AB1234567'}), '_i10': 'try:\\n    print(another_name)\\nexcept NameError:\\n    print(\"NameError: name \\'another_name\\' is not defined\")', '_i11': '# scopes1.py\\n# Local versus Global\\n# we define a function, called local\\ndef local():\\n\\n    m = 7\\n\\n    print(m)', 'local': <Arrow [2023-09-12T21:40:55.952450+02:00]>, '_i12': '# we define m within the global scope\\nm = 5\\n# we call, or `execute` the function local\\nlocal()\\nprint(m)', 'm': 5, '_i13': \"# scopes2.py\\n# Local versus Global\\ndef local():\\n    # m doesn't belong to the scope defined by the local function\\n    # so Python will keep looking into the next enclosing scope.\\n    # m is finally found in the global scope\\n    print(m, 'printing from the local scope')\", '_i14': \"m = 5\\nprint(m, 'printing from the global scope')\\nlocal()\", '_i15': '# scopes3.py\\n# Local, Enclosing and Global\\ndef enclosing_func():\\n    m = 13', 'enclosing_func': <function enclosing_func at 0x7ee60a7d83a0>, '_i16': \"def local():\\n    # m doesn't belong to the scope defined by the local\\n    # function so Python will keep looking into the next\\n    # enclosing scope. This time m is found in the enclosing\\n    # scope\\n    print(m, 'printing from the local scope')\", '_i17': \"# calling the function local\\ntry:\\n    local()\\nexcept Exception as e:\\n    print(e)\\nm = 5\\nprint(m, 'printing from the global scope')\\nenclosing_func()\", '_i18': '# let\\'s define the class Bike\\nclass Bike:\\n    def __init__(self, colour, frame_material):\\n        self.colour = colour\\n        self.frame_material = frame_material\\n\\n    def brake(self):\\n        print(\"Braking!\")', 'Bike': <class '__main__.Bike'>, '_i19': \"# let's create a couple of instances\\nred_bike = Bike('Red', 'Carbon fiber')\\nblue_bike = Bike('Blue', 'Steel')\", 'red_bike': <__main__.Bike object at 0x7ee60a809240>, 'blue_bike': <__main__.Bike object at 0x7ee60a808fd0>, '_i20': 'red_bike.colour,  red_bike.frame_material,  blue_bike.colour,  blue_bike.frame_material', '_20': ('Red', 'Carbon fiber', 'Blue', 'Steel'), '_i21': 'red_bike.brake()', '_i22': 'import this', 'this': <module 'this' from '/usr/lib/python3.10/this.py'>, '_i23': 'age = 42', 'age': 43, '_i24': 'age', '_24': 42, '_i25': 'id(age)', '_25': 139526911886864, '_i26': 'age = 43', '_i27': 'age', '_27': 43, '_i28': 'id(age)', '_28': 139526911886896, '_i29': 'class Person:\\n    def __init__(self, age):\\n      self.age = age', 'Person': <class '__main__.Person'>, '_i30': 'fab = Person(age=42)', 'fab': <__main__.Person object at 0x7ee60a7bff70>, '_i31': 'fab.age', '_31': 42, '_i32': 'id(fab)', '_32': 139526483476336, '_i33': 'id(fab.age)', '_33': 139526911886864, '_i34': 'fab.age = 25', '_i35': 'id(fab)', '_35': 139526483476336, '_i36': 'id(fab.age)', '_36': 139526911886320, '_i37': 'a = 14', 'a': [[1, 2], [3, 4]], '_i38': 'b = 3', 'b': [[5, 1], [2, 1]], '_i39': 'a + b # addition', '_39': 17, '_i40': 'a - b # subtraction', '_40': 11, '_i41': 'a * b # multiplication', '_41': 42, '_i42': 'a / b # true division', '_42': 4.666666666666667, '_i43': 'a // b # integer division', '_43': 4, '_i44': 'a % b # modulo operation (reminder of division)', '_44': 2, '_i45': 'a ** b # power operation', '_45': 2744, '_i46': 'bytearray()', '_46': bytearray(b''), '_i47': 'bytearray(10)', '_47': bytearray(b'\\x00\\x00\\x00\\x00\\x00\\x00\\x00\\x00\\x00\\x00'), '_i48': 'bytearray(range(5))', '_48': bytearray(b'\\x00\\x01\\x02\\x03\\x04'), '_i49': \"name = bytearray(b'Lina')\", 'name': bytearray(b'Lina'), '_i50': 'name', '_50': bytearray(b'Lina'), '_i51': \"name.replace(b'L', b'l')\", '_51': bytearray(b'lina'), '_i52': \"name.endswith(b'na')\", '_52': True, '_i53': 'from datetime import date, datetime, timedelta, timezone\\nimport time\\nimport calendar as cal\\nfrom zoneinfo import ZoneInfo', 'date': <class 'datetime.date'>, 'datetime': <class 'datetime.datetime'>, 'timedelta': <class 'datetime.timedelta'>, 'timezone': <class 'datetime.timezone'>, 'time': <module 'time' (built-in)>, 'cal': <module 'calendar' from '/usr/lib/python3.10/calendar.py'>, 'ZoneInfo': <class 'zoneinfo.ZoneInfo'>, '_i54': 'today = date.today()\\ntoday', 'today': datetime.date(2023, 9, 12), '_54': datetime.date(2023, 9, 12), '_i55': 'today.ctime()', '_55': 'Tue Sep 12 00:00:00 2023', '_i56': 'today.isoformat()', '_56': '2023-09-12', '_i57': 'today.weekday()', '_57': 1, '_i58': 'cal.day_name[today.weekday()]', '_58': 'Tuesday', '_i59': 'today.day, today.month, today.year', '_59': (12, 9, 2023), '_i60': 'today.timetuple()', '_60': time.struct_time(tm_year=2023, tm_mon=9, tm_mday=12, tm_hour=0, tm_min=0, tm_sec=0, tm_wday=1, tm_yday=255, tm_isdst=-1), '_i61': 'time.ctime()', '_61': 'Tue Sep 12 19:40:44 2023', '_i62': 'time.gmtime()', '_62': time.struct_time(tm_year=2023, tm_mon=9, tm_mday=12, tm_hour=19, tm_min=40, tm_sec=44, tm_wday=1, tm_yday=255, tm_isdst=0), '_i63': 'time.gmtime(0)', '_63': time.struct_time(tm_year=1970, tm_mon=1, tm_mday=1, tm_hour=0, tm_min=0, tm_sec=0, tm_wday=3, tm_yday=1, tm_isdst=0), '_i64': 'time.localtime()', '_64': time.struct_time(tm_year=2023, tm_mon=9, tm_mday=12, tm_hour=19, tm_min=40, tm_sec=44, tm_wday=1, tm_yday=255, tm_isdst=0), '_i65': 'time.time()', '_65': 1694547644.6433678, '_i66': 'now = datetime.now()\\nutcnow = datetime.utcnow()\\nnow, utcnow', 'now': datetime.datetime(2023, 9, 12, 19, 40, 44, 656525), 'utcnow': datetime.datetime(2023, 9, 12, 19, 40, 44, 656581), '_66': (datetime.datetime(2023, 9, 12, 19, 40, 44, 656525), datetime.datetime(2023, 9, 12, 19, 40, 44, 656581)), '_i67': 'now.date()', '_67': datetime.date(2023, 9, 12), '_i68': 'now.day, now.month, now.year', '_68': (12, 9, 2023), '_i69': 'now.date() == date.today()', '_69': True, '_i70': 'now.time()', '_70': datetime.time(19, 40, 44, 656525), '_i71': 'now.hour, now.minute, now.second, now.microsecond', '_71': (19, 40, 44, 656525), '_i72': 'now.ctime()', '_72': 'Tue Sep 12 19:40:44 2023', '_i73': 'now.isoformat()', '_73': '2023-09-12T19:40:44.656525', '_i74': 'now.timetuple()', '_74': time.struct_time(tm_year=2023, tm_mon=9, tm_mday=12, tm_hour=19, tm_min=40, tm_sec=44, tm_wday=1, tm_yday=255, tm_isdst=-1), '_i75': 'now.tzinfo\\nutcnow.tzinfo\\nnow.weekday()', '_75': 1, '_i76': \"f_bday = datetime(\\n1975, 12, 29, 12, 50, tzinfo=ZoneInfo('Europe/Rome')\\n)\\nh_bday = datetime(\\n1981, 10, 7, 15, 30, 50, tzinfo=timezone(timedelta(hours=2))\\n)\\ndiff = h_bday - f_bday\\ndiff, type(diff)\", 'f_bday': datetime.datetime(1975, 12, 29, 12, 50, tzinfo=zoneinfo.ZoneInfo(key='Europe/Rome')), 'h_bday': datetime.datetime(1981, 10, 7, 15, 30, 50, tzinfo=datetime.timezone(datetime.timedelta(seconds=7200))), 'diff': datetime.timedelta(days=2109, seconds=6050), '_76': (datetime.timedelta(days=2109, seconds=6050), <class 'datetime.timedelta'>), '_i77': 'diff.days, diff.total_seconds()', '_77': (2109, 182223650.0), '_i78': 'today + timedelta(days=49)', '_78': datetime.date(2023, 10, 31), '_i79': 'now + timedelta(weeks=7)', '_79': datetime.datetime(2023, 10, 31, 19, 40, 44, 656525), '_i80': \"datetime.fromisoformat('1977-11-24T19:30:13+01:00')\", '_80': datetime.datetime(1977, 11, 24, 19, 30, 13, tzinfo=datetime.timezone(datetime.timedelta(seconds=3600))), '_i81': 'datetime.fromtimestamp(time.time())', '_81': datetime.datetime(2023, 9, 12, 19, 40, 44, 966684), '_i82': '!pip install arrow', '_exit_code': 0, '_i83': 'import arrow', 'arrow': <module 'arrow' from '/usr/local/lib/python3.10/dist-packages/arrow/__init__.py'>, '_i84': 'arrow.utcnow()', '_84': <Arrow [2023-09-12T19:40:55.899331+00:00]>, '_i85': \"local = arrow.now('Europe/Rome')\\nlocal\", '_85': <Arrow [2023-09-12T21:40:55.952450+02:00]>, '_i86': \"local.to('utc')\", '_86': <Arrow [2023-09-12T19:40:55.952450+00:00]>, '_i87': \"local.to('Europe/Moscow')\", '_87': <Arrow [2023-09-12T22:40:55.952450+03:00]>, '_i88': \"local.to('Asia/Tokyo')\", '_88': <Arrow [2023-09-13T04:40:55.952450+09:00]>, '_i89': 'local.datetime', '_89': datetime.datetime(2023, 9, 12, 21, 40, 55, 952450, tzinfo=tzfile('/usr/share/zoneinfo/Europe/Rome')), '_i90': 'local.isoformat()', '_90': '2023-09-12T21:40:55.952450+02:00', '_i91': 'vision = (9.5, 8.8)\\nvision', 'vision': Vision(left=9.5, right=8.8), '_91': (9.5, 8.8), '_i92': 'vision[0]', '_92': 9.5, '_i93': 'vision[1]', '_93': 8.8, '_i94': 'from collections import namedtuple', 'namedtuple': <function namedtuple at 0x7ee623f88280>, '_i95': \"Vision = namedtuple('Vision', ['left', 'right'])\\nvision = Vision(9.5, 8.8)\\nvision[0]\", 'Vision': <class '__main__.Vision'>, '_95': 9.5, '_i96': 'vision.left', '_96': 9.5, '_i97': 'vision.right', '_97': 8.8, '_i98': \"d = {}\\nd['age'] = d.get('age', 0) + 1 # age not there, we get 0 + 1\\nd\", 'd': {'age': 40}, '_98': {'age': 1}, '_i99': \"d = {'age': 39}\\nd['age'] = d.get('age', 0) + 1 # age is there, we get 40\\nd\", '_99': {'age': 40}, '_i100': 'from collections import defaultdict\\ndd = defaultdict(int) # int is the default type (0 the value)\\ndd', 'defaultdict': <class 'collections.defaultdict'>, 'dd': defaultdict(<class 'int'>, {'age': 1}), '_100': defaultdict(<class 'int'>, {'age': 1}), '_i101': \"dd['age'] += 1 # short for dd['age'] = dd['age'] + 1\\ndd\", '_101': defaultdict(<class 'int'>, {'age': 1}), '_i102': 'from collections import ChainMap', 'ChainMap': <class 'collections.ChainMap'>, '_i103': \"default_connection = {'host': 'localhost', 'port': 4567}\\nconnection = {'port': 5678}\\nconn = ChainMap(connection, default_connection) # map creation\\nconn['port'],conn['host']\", 'default_connection': {'host': 'localhost', 'port': 4567}, 'connection': {'host': 'packtpub.com'}, 'conn': ChainMap({'host': 'packtpub.com'}, {'host': 'localhost', 'port': 4567}), '_103': (5678, 'localhost'), '_i104': 'conn.maps', '_104': [{'host': 'packtpub.com'}, {'host': 'localhost', 'port': 4567}], '_i105': \"conn['host'] = 'packtpub.com' # let's add host\\nconn.maps\", '_105': [{'host': 'packtpub.com'}, {'host': 'localhost', 'port': 4567}], '_i106': \"del conn['port'] # let's remove the port information\\nconn.maps\", '_106': [{'host': 'packtpub.com'}, {'host': 'localhost', 'port': 4567}], '_i107': \"conn['port']\", '_107': 4567, '_i108': 'dict(conn)', '_108': {'host': 'packtpub.com', 'port': 4567}, '_i109': 'a = 1000000\\nb = 1000000\\nid(a) == id(b)', '_109': False, '_i110': 'a = 5\\nb = 5\\nid(a) == id(b)', '_110': True, '_i111': 'from itertools import count', 'count': <class 'itertools.count'>, '_i112': \"for n in count(5, 3):\\n  if n > 20:\\n    break\\n  print(n, end=', ')\", '_i113': 'from itertools import compress', 'compress': <class 'itertools.compress'>, '_i114': 'data = range(10)\\neven_selector = [1, 0] * 10\\nodd_selector = [0, 1] * 10\\n\\nlist(data), even_selector, odd_selector', 'data': range(0, 10), 'even_selector': [1, 0, 1, 0, 1, 0, 1, 0, 1, 0, 1, 0, 1, 0, 1, 0, 1, 0, 1, 0], 'odd_selector': [0, 1, 0, 1, 0, 1, 0, 1, 0, 1, 0, 1, 0, 1, 0, 1, 0, 1, 0, 1], '_114': ([0, 1, 2, 3, 4, 5, 6, 7, 8, 9], [1, 0, 1, 0, 1, 0, 1, 0, 1, 0, 1, 0, 1, 0, 1, 0, 1, 0, 1, 0], [0, 1, 0, 1, 0, 1, 0, 1, 0, 1, 0, 1, 0, 1, 0, 1, 0, 1, 0, 1]), '_i115': 'even_numbers = list(compress(data, even_selector))\\nodd_numbers = list(compress(data, odd_selector))\\n\\neven_numbers, odd_numbers', 'even_numbers': [0, 2, 4, 6, 8], 'odd_numbers': [1, 3, 5, 7, 9], '_115': ([0, 2, 4, 6, 8], [1, 3, 5, 7, 9]), '_i116': 'from itertools import permutations', 'permutations': <class 'itertools.permutations'>, '_i117': \"print(list(permutations('ABC')))\", '_i118': 'a = [[1, 2], [3, 4]]\\nb = [[5, 1], [2, 1]]', '_i119': 'c = [[sum(i * j for i, j in zip(r, c)) for c in zip(*b)]\\nfor r in a]\\nc', 'c': [[9, 3], [23, 7]], '_119': [[9, 3], [23, 7]], '_i120': 'def matrix_mul(a, b):\\n  return [[sum(i * j for i, j in zip(r, c)) for c in zip(*b)]\\n  for r in a]', 'matrix_mul': <function matrix_mul at 0x7ee608727640>, '_i121': 'c = matrix_mul(a, b)\\nc', '_121': [[9, 3], [23, 7]], '_i122': 'price = 100 # GBP, no VAT\\nfinal_price1 = price * 1.2\\nfinal_price2 = price + price / 5.0\\nfinal_price3 = price * (100 + 20) / 100.0\\nfinal_price4 = price + price * 0.2', 'price': 100, 'final_price1': 120.0, 'final_price2': 120.0, 'final_price3': 120.0, 'final_price4': 120.0, '_i123': 'final_price1, final_price2, final_price3, final_price4', '_123': (120.0, 120.0, 120.0, 120.0), '_i124': 'def calculate_price_with_vat(price, vat):\\n  return price * (100 + vat) / 100', 'calculate_price_with_vat': <function calculate_price_with_vat at 0x7ee60830c310>, '_i125': 'calculate_price_with_vat(price,5)', '_125': 105.0, '_i126': \"def my_function():\\n  test = 1 # this is defined in the local scope of the function\\n  print('my_function:', test)\", 'my_function': <function my_function at 0x7ee60830c940>, '_i127': \"test = 0 # this is defined in the global scope\\nmy_function()\\nprint('global:', test)\", 'test': 2, '_i128': \"def outer():\\n  test = 1 # outer scope\\n\\n  def inner():\\n    test = 2 # inner scope\\n    print('inner:', test)\\n\\n  inner()\\n  print('outer:', test)\\n\\ntest = 0 # global scope\\nouter()\\nprint('global:', test)\", 'outer': <function outer at 0x7ee60830d6c0>, '_i129': \"def outer():\\n  test = 1 # outer scope\\n\\n  def inner():\\n    nonlocal test\\n    test = 2 # nearest enclosing scope (which is 'outer')\\n    print('inner:', test)\\n\\n  inner()\\n  print('outer:', test)\\n\\ntest = 0 # global scope\\nouter()\\nprint('global:', test)\", '_i130': \"# scoping.level.2.global.py\\ndef outer():\\n  test = 1 # outer scope\\n\\n  def inner():\\n    global test\\n    test = 2 # global scope\\n    print('inner:', test)\\n\\n  inner()\\n  print('outer:', test)\\n\\ntest = 0 # global scope\\nouter()\\nprint('global:', test)\", '_i131': 'x = 3\\ndef func(x):\\n  x = 7 # defining a local x, not changing the global one\\nfunc(x)\\nprint(x) # prints: 3', 'x': [1, 42, 3], 'func': <function func at 0x7ee608324310>, '_i132': \"x = [1, 2, 3]\\ndef func(x):\\n  x[1] = 42 # this affects the 'x' argument!\\nfunc(x)\\nprint(x) # prints: [1, 42, 3]\", '_i133': \"def func(x):\\n  x[1] = 42 # this changes the original 'x' argument!\\n  x = 'something else' # this points x to a new string object\\nfunc(x)\\nprint(x) # still prints: [1, 42, 3]\", '_i134': 'def func(a, b, c, d, e, f):\\n  print(a, b, c, d, e, f)', '_i135': \"func(1, *(2, 3), f=6, *(4, 5))\\nfunc(*(1, 2), e=5, *(3, 4), f=6)\\nfunc(1, **{'b': 2, 'c': 3}, d=4, **{'e': 5, 'f': 6})\\nfunc(c=3, *(1, 2), **{'d': 4}, e=5, **{'f': 6})\", '_i136': 'def func(a, b, /, c):\\n  print(a, b, c)', '_i137': 'func(1, 2, 3) # prints: 1 2 3\\nfunc(1, 2, c=3) # prints 1 2 3', '_i138': 'try:\\n  func(1, b=2, c=3)\\nexcept Exception as e:\\n  print(e)', '_i139': 'def kwo(*a, c):\\n  print(a, c)', 'kwo': <function kwo at 0x7ee60830edd0>, '_i140': 'def kwo2(a, b=42, *, c):\\n  print(a, b, c)', 'kwo2': <function kwo2 at 0x7ee60830f640>, '_i141': 'kwo(1, 2, 3, c=7) # prints: (1, 2, 3) 7\\nkwo(c=4)', '_i142': 'kwo2(3, b=7, c=99) # prints: 3 7 99\\nkwo2(3, c=13) # prints: 3 42 13', '_i143': 'try:\\n  kwo2(3, 7, 13) # prints: 3 42 13\\nexcept Exception as e:\\n  print(e)', '_i144': \"def func(a=[], b={}):\\n  print(a)\\n  print(b)\\n  print('#' * 12)\\n  a.append(len(a)) # this will affect a's default value\\n  b[len(a)] = len(a)\", '_i145': 'func()\\nfunc()\\nfunc()', '_i146': \"func()\\nfunc(a=[1, 2, 3], b={'B': 1})\\nfunc()\", '_i147': 'def multiplication(a, b=1):\\n  \"\"\"Return a multiplied by b. \"\"\"\\n  return a * b\\n\\nif __name__ == \"__main__\":\\n  special_attributes = [\\n  \"__doc__\", \"__name__\", \"__qualname__\", \"__module__\",\\n  \"__defaults__\", \"__code__\", \"__globals__\", \"__dict__\",\\n  \"__closure__\", \"__annotations__\", \"__kwdefaults__\",\\n  ]\\n  for attribute in special_attributes:\\n    print(attribute, \\'->\\', getattr(multiplication, attribute))', 'multiplication': <function multiplication at 0x7ee608324430>, 'special_attributes': ['__doc__', '__name__', '__qualname__', '__module__', '__defaults__', '__code__', '__globals__', '__dict__', '__closure__', '__annotations__', '__kwdefaults__'], 'attribute': '__globals__'}\n",
            "__dict__ -> {}\n",
            "__closure__ -> None\n",
            "__annotations__ -> {}\n",
            "__kwdefaults__ -> None\n"
          ]
        }
      ]
    },
    {
      "cell_type": "markdown",
      "source": [
        "## Importing objects"
      ],
      "metadata": {
        "id": "EaoOJLXv3eHa"
      }
    },
    {
      "cell_type": "code",
      "source": [
        "from datetime import datetime, timezone # two imports on the same line\n",
        "from unittest.mock import patch # single import\n",
        "import pytest # third party library\n",
        "from time import (\n",
        "    timezone,\n",
        "    CLOCK_REALTIME,\n",
        "  )"
      ],
      "metadata": {
        "id": "uOaTC3z13fJ4"
      },
      "execution_count": null,
      "outputs": []
    },
    {
      "cell_type": "markdown",
      "source": [
        "#Reading and writing to a file\n",
        "---"
      ],
      "metadata": {
        "id": "CJDv-P338bby"
      }
    },
    {
      "cell_type": "code",
      "source": [
        "with open('print_example.txt', 'w') as fw:\n",
        "  print('Hey I am printing into a file!!!', file=fw)"
      ],
      "metadata": {
        "id": "gsAL5y0K8ddM"
      },
      "execution_count": null,
      "outputs": []
    },
    {
      "cell_type": "code",
      "source": [
        "with open('print_example.txt') as f:\n",
        "  lines = [line.rstrip() for line in f]\n",
        "lines"
      ],
      "metadata": {
        "colab": {
          "base_uri": "https://localhost:8080/"
        },
        "id": "HWGrHNoM8hwP",
        "outputId": "72ab19d0-7970-4d8f-c264-1a52da0b75d0"
      },
      "execution_count": null,
      "outputs": [
        {
          "output_type": "execute_result",
          "data": {
            "text/plain": [
              "['Hey I am printing into a file!!!']"
            ]
          },
          "metadata": {},
          "execution_count": 154
        }
      ]
    },
    {
      "cell_type": "markdown",
      "source": [
        "#Reading and writing in binary mode\n",
        "---"
      ],
      "metadata": {
        "id": "AYYWHxU_9I5Y"
      }
    },
    {
      "cell_type": "code",
      "source": [
        "with open('example.bin', 'wb') as fw:\n",
        "  fw.write(b'This is binary data...')"
      ],
      "metadata": {
        "id": "V7tOcb3o9Kuq"
      },
      "execution_count": null,
      "outputs": []
    },
    {
      "cell_type": "code",
      "source": [
        "with open('example.bin', 'rb') as f:\n",
        "  print(f.read()) # prints: b'This is binary data...'"
      ],
      "metadata": {
        "colab": {
          "base_uri": "https://localhost:8080/"
        },
        "id": "aBkRqjR79M45",
        "outputId": "2ad8d27f-968a-4f33-f7c6-be818a16be5f"
      },
      "execution_count": null,
      "outputs": [
        {
          "output_type": "stream",
          "name": "stdout",
          "text": [
            "b'This is binary data...'\n"
          ]
        }
      ]
    },
    {
      "cell_type": "markdown",
      "source": [
        "#Protecting against overwriting an existing file\n",
        "---"
      ],
      "metadata": {
        "id": "tziX_uhU9Q8G"
      }
    },
    {
      "cell_type": "code",
      "source": [
        "with open('write_x.txt', 'x') as fw: # this succeeds\n",
        "  fw.write('Writing line 1')"
      ],
      "metadata": {
        "id": "8EElXYL19QdE"
      },
      "execution_count": null,
      "outputs": []
    },
    {
      "cell_type": "code",
      "source": [
        "try:\n",
        "\n",
        "  with open('write_x.txt', 'x') as fw: # this succeeds\n",
        "    fw.write('Writing line 2')\n",
        "except Exception as e:\n",
        "  print(e)"
      ],
      "metadata": {
        "colab": {
          "base_uri": "https://localhost:8080/"
        },
        "id": "zhwyo9BZ9VQn",
        "outputId": "a2fbccc2-5651-4e5f-d527-0878846c6a26"
      },
      "execution_count": null,
      "outputs": [
        {
          "output_type": "stream",
          "name": "stdout",
          "text": [
            "[Errno 17] File exists: 'write_x.txt'\n"
          ]
        }
      ]
    },
    {
      "cell_type": "markdown",
      "source": [
        "#Temporary files and directories\n",
        "---"
      ],
      "metadata": {
        "id": "EAM4UwCC-VI3"
      }
    },
    {
      "cell_type": "code",
      "source": [
        "from tempfile import NamedTemporaryFile, TemporaryDirectory"
      ],
      "metadata": {
        "id": "kwD7p4iM-L4B"
      },
      "execution_count": null,
      "outputs": []
    },
    {
      "cell_type": "code",
      "source": [
        "with TemporaryDirectory(dir='.') as td:\n",
        "  print('Temp directory:', td)\n",
        "  with NamedTemporaryFile(dir=td) as t:\n",
        "    name = t.name\n",
        "    print(name)"
      ],
      "metadata": {
        "colab": {
          "base_uri": "https://localhost:8080/"
        },
        "id": "Zm1tCQ57-OQ2",
        "outputId": "2b980200-feff-4864-dd76-3e6d39d7cafc"
      },
      "execution_count": null,
      "outputs": [
        {
          "output_type": "stream",
          "name": "stdout",
          "text": [
            "Temp directory: ./tmp6sohqqvx\n",
            "/content/tmp6sohqqvx/tmp8v0a1_zl\n"
          ]
        }
      ]
    },
    {
      "cell_type": "markdown",
      "source": [
        "# File and directory compression\n",
        "---"
      ],
      "metadata": {
        "id": "Oe3eKUan-uZO"
      }
    },
    {
      "cell_type": "code",
      "source": [
        "from zipfile import ZipFile\n",
        "import os"
      ],
      "metadata": {
        "id": "6PryMQh--uK9"
      },
      "execution_count": null,
      "outputs": []
    },
    {
      "cell_type": "code",
      "source": [
        "with open('content1.txt','w') as f:\n",
        "  f.write(\"hola soy content 1\")"
      ],
      "metadata": {
        "id": "7wNKSY2F-4XL"
      },
      "execution_count": null,
      "outputs": []
    },
    {
      "cell_type": "code",
      "source": [
        "with open('content2.txt','w') as f:\n",
        "  f.write(\"hola soy content 2\")"
      ],
      "metadata": {
        "id": "Nf2V9Ijj_IUy"
      },
      "execution_count": null,
      "outputs": []
    },
    {
      "cell_type": "code",
      "source": [
        "os.mkdir('subfolder')\n",
        "with open('subfolder/content3.txt','w') as f:\n",
        "  f.write(\"hola soy content 3\")"
      ],
      "metadata": {
        "id": "f9ySlk0N_NfO"
      },
      "execution_count": null,
      "outputs": []
    },
    {
      "cell_type": "code",
      "source": [
        "with open('subfolder/content4.txt','w') as f:\n",
        "  f.write(\"hola soy content 4\")"
      ],
      "metadata": {
        "id": "SCSuM9fg_Npm"
      },
      "execution_count": null,
      "outputs": []
    },
    {
      "cell_type": "code",
      "source": [
        "with ZipFile('example.zip', 'w') as zp:\n",
        "  zp.write('content1.txt')\n",
        "  zp.write('content2.txt')\n",
        "  zp.write('subfolder/content3.txt')\n",
        "  zp.write('subfolder/content4.txt')"
      ],
      "metadata": {
        "id": "EFMeji48-xpU"
      },
      "execution_count": null,
      "outputs": []
    },
    {
      "cell_type": "code",
      "source": [
        "with ZipFile('example.zip') as zp:\n",
        "  res1 = zp.extract('content1.txt', 'extract_zip')\n",
        "  res2 = zp.extract('subfolder/content3.txt', 'extract_zip')\n",
        "  print(res1, res2)"
      ],
      "metadata": {
        "colab": {
          "base_uri": "https://localhost:8080/"
        },
        "id": "o62ZG2is_c0H",
        "outputId": "028a14ad-9037-405a-8d42-33244e706c6f"
      },
      "execution_count": null,
      "outputs": [
        {
          "output_type": "stream",
          "name": "stdout",
          "text": [
            "extract_zip/content1.txt extract_zip/subfolder/content3.txt\n"
          ]
        }
      ]
    },
    {
      "cell_type": "markdown",
      "source": [
        "# Saving data to a database\n",
        "---"
      ],
      "metadata": {
        "id": "ilNVG2tRA2OT"
      }
    },
    {
      "cell_type": "code",
      "source": [
        "from sqlalchemy.ext.declarative import declarative_base\n",
        "from sqlalchemy import (\n",
        "Column, Integer, String, ForeignKey, create_engine)\n",
        "from sqlalchemy.orm import relationship"
      ],
      "metadata": {
        "id": "PtUKFRYyA5a8"
      },
      "execution_count": null,
      "outputs": []
    },
    {
      "cell_type": "code",
      "source": [
        "engine = create_engine('sqlite:///:memory:')\n",
        "Base = declarative_base()"
      ],
      "metadata": {
        "colab": {
          "base_uri": "https://localhost:8080/"
        },
        "id": "GhCDvJABA6tj",
        "outputId": "b5790057-abf3-4163-cdc0-ab536675ac85"
      },
      "execution_count": null,
      "outputs": [
        {
          "output_type": "stream",
          "name": "stderr",
          "text": [
            "<ipython-input-169-df29a102f9ce>:2: MovedIn20Warning: The ``declarative_base()`` function is now available as sqlalchemy.orm.declarative_base(). (deprecated since: 2.0) (Background on SQLAlchemy 2.0 at: https://sqlalche.me/e/b8d9)\n",
            "  Base = declarative_base()\n"
          ]
        }
      ]
    },
    {
      "cell_type": "code",
      "source": [
        "class Person(Base):\n",
        "  __tablename__ = 'person'\n",
        "  id = Column(Integer, primary_key=True)\n",
        "  name = Column(String)\n",
        "  age = Column(Integer)\n",
        "  addresses = relationship(\n",
        "    'Address',\n",
        "    back_populates='person',\n",
        "    order_by='Address.email',\n",
        "    cascade='all, delete-orphan'\n",
        "  )\n",
        "\n",
        "  def __repr__(self):\n",
        "    return f'{self.name}(id={self.id})'"
      ],
      "metadata": {
        "id": "1y33hK_0A9ND"
      },
      "execution_count": null,
      "outputs": []
    },
    {
      "cell_type": "code",
      "source": [
        "class Address(Base):\n",
        "  __tablename__ = 'address'\n",
        "  id = Column(Integer, primary_key=True)\n",
        "  email = Column(String)\n",
        "  person_id = Column(ForeignKey('person.id'))\n",
        "  person = relationship('Person', back_populates='addresses')\n",
        "\n",
        "  def __str__(self):\n",
        "    return self.email\n",
        "\n",
        "  __repr__ = __str__"
      ],
      "metadata": {
        "id": "cK4iRWZDBF_g"
      },
      "execution_count": null,
      "outputs": []
    },
    {
      "cell_type": "code",
      "source": [
        "Base.metadata.create_all(engine)"
      ],
      "metadata": {
        "id": "JAIvO6GLBeuZ"
      },
      "execution_count": null,
      "outputs": []
    },
    {
      "cell_type": "code",
      "source": [
        "from sqlalchemy.orm import sessionmaker"
      ],
      "metadata": {
        "id": "yx6uWGITBgZe"
      },
      "execution_count": null,
      "outputs": []
    },
    {
      "cell_type": "code",
      "source": [
        "Session = sessionmaker(bind=engine)\n",
        "session = Session()"
      ],
      "metadata": {
        "id": "6JWlZfyCBhlC"
      },
      "execution_count": null,
      "outputs": []
    },
    {
      "cell_type": "code",
      "source": [
        "anakin = Person(name='Anakin Skywalker', age=32)\n",
        "obi1 = Person(name='Obi-Wan Kenobi', age=40)"
      ],
      "metadata": {
        "id": "An8AUmACBrhB"
      },
      "execution_count": null,
      "outputs": []
    },
    {
      "cell_type": "code",
      "source": [
        "obi1.addresses = [\n",
        "  Address(email='obi1@example.com'),\n",
        "  Address(email='wanwan@example.com'),\n",
        "]"
      ],
      "metadata": {
        "id": "3183IFepBuU8"
      },
      "execution_count": null,
      "outputs": []
    },
    {
      "cell_type": "code",
      "source": [
        "anakin.addresses.append(Address(email='ani@example.com'))\n",
        "anakin.addresses.append(Address(email='evil.dart@example.com'))\n",
        "anakin.addresses.append(Address(email='vader@example.com'))"
      ],
      "metadata": {
        "id": "xnhzeG0YByIW"
      },
      "execution_count": null,
      "outputs": []
    },
    {
      "cell_type": "code",
      "source": [
        "session.add(anakin)\n",
        "session.add(obi1)\n",
        "session.commit()"
      ],
      "metadata": {
        "id": "COAUGCBnB1QL"
      },
      "execution_count": null,
      "outputs": []
    },
    {
      "cell_type": "code",
      "source": [
        "obi1 = session.query(Person).filter(\n",
        "Person.name.like('Obi%')\n",
        ").first()\n",
        "print(obi1, obi1.addresses)"
      ],
      "metadata": {
        "colab": {
          "base_uri": "https://localhost:8080/"
        },
        "id": "jL78bOkBB3_g",
        "outputId": "f0b7eb1c-69be-4da2-d246-aa88ee76e9ca"
      },
      "execution_count": null,
      "outputs": [
        {
          "output_type": "stream",
          "name": "stdout",
          "text": [
            "Obi-Wan Kenobi(id=2) [obi1@example.com, wanwan@example.com]\n"
          ]
        }
      ]
    },
    {
      "cell_type": "code",
      "source": [
        "anakin = session.query(Person).filter(\n",
        "Person.name=='Anakin Skywalker'\n",
        ").first()\n",
        "print(anakin, anakin.addresses)"
      ],
      "metadata": {
        "colab": {
          "base_uri": "https://localhost:8080/"
        },
        "id": "jjyd_f6QB55Q",
        "outputId": "13aa81aa-6336-44b8-e9a5-e52cbab1f206"
      },
      "execution_count": null,
      "outputs": [
        {
          "output_type": "stream",
          "name": "stdout",
          "text": [
            "Anakin Skywalker(id=1) [ani@example.com, evil.dart@example.com, vader@example.com]\n"
          ]
        }
      ]
    },
    {
      "cell_type": "code",
      "source": [
        "def display_info():\n",
        "  # get all addresses first\n",
        "  addresses = session.query(Address).all()\n",
        "  # display results\n",
        "  for address in addresses:\n",
        "    print(f'{address.person.name} <{address.email}>')\n",
        "    # display how many objects we have in total\n",
        "    print('people: {}, addresses: {}'.format(session.query(Person).count(), session.query(Address).count()))"
      ],
      "metadata": {
        "id": "6OGkoVFUCDvw"
      },
      "execution_count": null,
      "outputs": []
    },
    {
      "cell_type": "code",
      "source": [
        "anakin_id = anakin.id\n",
        "del anakin"
      ],
      "metadata": {
        "id": "CRe48BuoCQGT"
      },
      "execution_count": null,
      "outputs": []
    },
    {
      "cell_type": "code",
      "source": [
        "display_info()\n",
        "anakin = session.query(Person).get(anakin_id)\n",
        "session.delete(anakin)\n",
        "session.commit()\n",
        "display_info()"
      ],
      "metadata": {
        "colab": {
          "base_uri": "https://localhost:8080/"
        },
        "id": "y_f_eRThCMdB",
        "outputId": "dc2f8c52-67d3-4502-f503-619f2b684b05"
      },
      "execution_count": null,
      "outputs": [
        {
          "output_type": "stream",
          "name": "stdout",
          "text": [
            "Anakin Skywalker <ani@example.com>\n",
            "people: 2, addresses: 5\n",
            "Anakin Skywalker <evil.dart@example.com>\n",
            "people: 2, addresses: 5\n",
            "Anakin Skywalker <vader@example.com>\n",
            "people: 2, addresses: 5\n",
            "Obi-Wan Kenobi <obi1@example.com>\n",
            "people: 2, addresses: 5\n",
            "Obi-Wan Kenobi <wanwan@example.com>\n",
            "people: 2, addresses: 5\n",
            "Obi-Wan Kenobi <obi1@example.com>\n",
            "people: 1, addresses: 2\n",
            "Obi-Wan Kenobi <wanwan@example.com>\n",
            "people: 1, addresses: 2\n"
          ]
        },
        {
          "output_type": "stream",
          "name": "stderr",
          "text": [
            "<ipython-input-183-45cf9b20db57>:2: LegacyAPIWarning: The Query.get() method is considered legacy as of the 1.x series of SQLAlchemy and becomes a legacy construct in 2.0. The method is now available as Session.get() (deprecated since: 2.0) (Background on SQLAlchemy 2.0 at: https://sqlalche.me/e/b8d9)\n",
            "  anakin = session.query(Person).get(anakin_id)\n"
          ]
        }
      ]
    }
  ]
}