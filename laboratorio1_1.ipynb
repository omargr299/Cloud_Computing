{
  "nbformat": 4,
  "nbformat_minor": 0,
  "metadata": {
    "colab": {
      "provenance": [],
      "authorship_tag": "ABX9TyPrGO4PEBy9ZBFTKC88Jbv2",
      "include_colab_link": true
    },
    "kernelspec": {
      "name": "python3",
      "display_name": "Python 3"
    },
    "language_info": {
      "name": "python"
    }
  },
  "cells": [
    {
      "cell_type": "markdown",
      "metadata": {
        "id": "view-in-github",
        "colab_type": "text"
      },
      "source": [
        "<a href=\"https://colab.research.google.com/github/omargr299/cloud_computing/blob/main/laboratorio1_1.ipynb\" target=\"_parent\"><img src=\"https://colab.research.google.com/assets/colab-badge.svg\" alt=\"Open In Colab\"/></a>"
      ]
    },
    {
      "cell_type": "markdown",
      "source": [],
      "metadata": {
        "id": "fynkGYt7Sagm"
      }
    },
    {
      "cell_type": "markdown",
      "source": [
        "# Basic maths\n",
        "\n",
        "---\n",
        "\n"
      ],
      "metadata": {
        "id": "_2YDiVzsSfX-"
      }
    },
    {
      "cell_type": "code",
      "execution_count": null,
      "metadata": {
        "colab": {
          "base_uri": "https://localhost:8080/"
        },
        "id": "RTjZTjloSSOi",
        "outputId": "2705f802-b9e6-4535-ae2d-ba27242447ce"
      },
      "outputs": [
        {
          "output_type": "execute_result",
          "data": {
            "text/plain": [
              "10"
            ]
          },
          "metadata": {},
          "execution_count": 2
        }
      ],
      "source": [
        "3 + 7"
      ]
    },
    {
      "cell_type": "code",
      "source": [
        "10 / 4"
      ],
      "metadata": {
        "colab": {
          "base_uri": "https://localhost:8080/"
        },
        "id": "jij2YjE8SX6i",
        "outputId": "d88478a7-0588-488a-8b18-3ba0bc683eff"
      },
      "execution_count": null,
      "outputs": [
        {
          "output_type": "execute_result",
          "data": {
            "text/plain": [
              "2.5"
            ]
          },
          "metadata": {},
          "execution_count": 3
        }
      ]
    },
    {
      "cell_type": "code",
      "source": [
        "2 ** 1024"
      ],
      "metadata": {
        "colab": {
          "base_uri": "https://localhost:8080/"
        },
        "id": "u7SRrLiNSZq6",
        "outputId": "adeb60b4-0ca4-4667-bac0-e376e2b84a90"
      },
      "execution_count": null,
      "outputs": [
        {
          "output_type": "execute_result",
          "data": {
            "text/plain": [
              "179769313486231590772930519078902473361797697894230657273430081157732675805500963132708477322407536021120113879871393357658789768814416622492847430639474124377767893424865485276302219601246094119453082952085005768838150682342462881473913110540827237163350510684586298239947245938479716304835356329624224137216"
            ]
          },
          "metadata": {},
          "execution_count": 4
        }
      ]
    },
    {
      "cell_type": "markdown",
      "source": [
        "# Factorial\n",
        "\n",
        "---\n",
        "\n"
      ],
      "metadata": {
        "id": "BavF6xkiSpjj"
      }
    },
    {
      "cell_type": "code",
      "source": [
        "from math import factorial"
      ],
      "metadata": {
        "id": "S6BzUzlzSxHR"
      },
      "execution_count": null,
      "outputs": []
    },
    {
      "cell_type": "code",
      "source": [
        "factorial(5)"
      ],
      "metadata": {
        "colab": {
          "base_uri": "https://localhost:8080/"
        },
        "id": "XbSZDF4NS3VD",
        "outputId": "aded93ac-cfb0-4328-be7c-38844540c383"
      },
      "execution_count": null,
      "outputs": [
        {
          "output_type": "execute_result",
          "data": {
            "text/plain": [
              "120"
            ]
          },
          "metadata": {},
          "execution_count": 6
        }
      ]
    },
    {
      "cell_type": "markdown",
      "source": [
        "# Name and namesapces\n",
        "\n",
        "---\n",
        "\n"
      ],
      "metadata": {
        "id": "UKzwtNA-S-33"
      }
    },
    {
      "cell_type": "code",
      "source": [
        "n = 3  # integer number"
      ],
      "metadata": {
        "id": "Q67FsRizTJcB"
      },
      "execution_count": null,
      "outputs": []
    },
    {
      "cell_type": "code",
      "source": [
        "address = \"221b Baker Street, NW1 6XE, London\"  # Sherlock Holmes'"
      ],
      "metadata": {
        "id": "T6Yzt_qdTNzY"
      },
      "execution_count": null,
      "outputs": []
    },
    {
      "cell_type": "code",
      "source": [
        "employee = {\n",
        "    'age': 45,\n",
        "    'role': 'CTO',\n",
        "    'SSN': 'AB1234567',\n",
        "}"
      ],
      "metadata": {
        "id": "LGGqkedATQOO"
      },
      "execution_count": null,
      "outputs": []
    },
    {
      "cell_type": "code",
      "source": [
        "n, address, employee"
      ],
      "metadata": {
        "colab": {
          "base_uri": "https://localhost:8080/"
        },
        "id": "2reLR50STO5O",
        "outputId": "237f5002-7ce7-4836-83cd-659410416977"
      },
      "execution_count": null,
      "outputs": [
        {
          "output_type": "execute_result",
          "data": {
            "text/plain": [
              "(3,\n",
              " '221b Baker Street, NW1 6XE, London',\n",
              " {'age': 45, 'role': 'CTO', 'SSN': 'AB1234567'})"
            ]
          },
          "metadata": {},
          "execution_count": 13
        }
      ]
    },
    {
      "cell_type": "code",
      "source": [
        "try:\n",
        "    print(another_name)\n",
        "except NameError:\n",
        "    print(\"NameError: name 'another_name' is not defined\")"
      ],
      "metadata": {
        "colab": {
          "base_uri": "https://localhost:8080/"
        },
        "id": "lBCrJBqgTZlu",
        "outputId": "e4a2ecc3-5c19-46a6-8f46-cbedce2a16e6"
      },
      "execution_count": null,
      "outputs": [
        {
          "output_type": "stream",
          "name": "stdout",
          "text": [
            "NameError: name 'another_name' is not defined\n"
          ]
        }
      ]
    },
    {
      "cell_type": "markdown",
      "source": [
        "# Scopes\n",
        "\n",
        "\n",
        "---\n",
        "\n"
      ],
      "metadata": {
        "id": "ElhgyYupTrd6"
      }
    },
    {
      "cell_type": "markdown",
      "source": [
        "scope 1"
      ],
      "metadata": {
        "id": "AO01OSQbT0Pv"
      }
    },
    {
      "cell_type": "code",
      "source": [
        "# scopes1.py\n",
        "# Local versus Global\n",
        "# we define a function, called local\n",
        "def local():\n",
        "\n",
        "    m = 7\n",
        "\n",
        "    print(m)"
      ],
      "metadata": {
        "id": "JJZT_7T7TvwX"
      },
      "execution_count": null,
      "outputs": []
    },
    {
      "cell_type": "code",
      "source": [
        "# we define m within the global scope\n",
        "m = 5\n",
        "# we call, or `execute` the function local\n",
        "local()\n",
        "print(m)"
      ],
      "metadata": {
        "colab": {
          "base_uri": "https://localhost:8080/"
        },
        "id": "lhQ34THBT4ou",
        "outputId": "0285b69c-c877-489c-e6af-752c73cb0188"
      },
      "execution_count": null,
      "outputs": [
        {
          "output_type": "stream",
          "name": "stdout",
          "text": [
            "7\n",
            "5\n"
          ]
        }
      ]
    },
    {
      "cell_type": "markdown",
      "source": [
        "Scope 2"
      ],
      "metadata": {
        "id": "o8D96NwqT73L"
      }
    },
    {
      "cell_type": "code",
      "source": [
        "# scopes2.py\n",
        "# Local versus Global\n",
        "def local():\n",
        "    # m doesn't belong to the scope defined by the local function\n",
        "    # so Python will keep looking into the next enclosing scope.\n",
        "    # m is finally found in the global scope\n",
        "    print(m, 'printing from the local scope')"
      ],
      "metadata": {
        "id": "PpK7itRaUADE"
      },
      "execution_count": null,
      "outputs": []
    },
    {
      "cell_type": "code",
      "source": [
        "m = 5\n",
        "print(m, 'printing from the global scope')\n",
        "local()"
      ],
      "metadata": {
        "colab": {
          "base_uri": "https://localhost:8080/"
        },
        "id": "1A369VbgUCsM",
        "outputId": "d96787b4-f9b2-4187-a7ea-d6136491a979"
      },
      "execution_count": null,
      "outputs": [
        {
          "output_type": "stream",
          "name": "stdout",
          "text": [
            "5 printing from the global scope\n",
            "5 printing from the local scope\n"
          ]
        }
      ]
    },
    {
      "cell_type": "markdown",
      "source": [
        "Scope 3"
      ],
      "metadata": {
        "id": "bfPv5SB0UGFp"
      }
    },
    {
      "cell_type": "code",
      "source": [
        "# scopes3.py\n",
        "# Local, Enclosing and Global\n",
        "def enclosing_func():\n",
        "    m = 13"
      ],
      "metadata": {
        "id": "HsZ3UZbdUHbG"
      },
      "execution_count": null,
      "outputs": []
    },
    {
      "cell_type": "code",
      "source": [
        "def local():\n",
        "    # m doesn't belong to the scope defined by the local\n",
        "    # function so Python will keep looking into the next\n",
        "    # enclosing scope. This time m is found in the enclosing\n",
        "    # scope\n",
        "    print(m, 'printing from the local scope')"
      ],
      "metadata": {
        "id": "s1epAz_aUJX1"
      },
      "execution_count": null,
      "outputs": []
    },
    {
      "cell_type": "code",
      "source": [
        "# calling the function local\n",
        "try:\n",
        "    local()\n",
        "except Exception as e:\n",
        "    print(e)\n",
        "m = 5\n",
        "print(m, 'printing from the global scope')\n",
        "enclosing_func()"
      ],
      "metadata": {
        "colab": {
          "base_uri": "https://localhost:8080/"
        },
        "id": "foXC_8A2UKqq",
        "outputId": "0c40a59c-0b54-482e-ea0f-8ee08690d680"
      },
      "execution_count": null,
      "outputs": [
        {
          "output_type": "stream",
          "name": "stdout",
          "text": [
            "5 printing from the local scope\n",
            "5 printing from the global scope\n"
          ]
        }
      ]
    },
    {
      "cell_type": "markdown",
      "source": [
        "# Object and class\n",
        "\n",
        "---\n",
        "\n"
      ],
      "metadata": {
        "id": "4drHgcT-US4S"
      }
    },
    {
      "cell_type": "code",
      "source": [
        "# let's define the class Bike\n",
        "class Bike:\n",
        "    def __init__(self, colour, frame_material):\n",
        "        self.colour = colour\n",
        "        self.frame_material = frame_material\n",
        "\n",
        "    def brake(self):\n",
        "        print(\"Braking!\")"
      ],
      "metadata": {
        "id": "6xZGfClxUXfD"
      },
      "execution_count": null,
      "outputs": []
    },
    {
      "cell_type": "code",
      "source": [
        "# let's create a couple of instances\n",
        "red_bike = Bike('Red', 'Carbon fiber')\n",
        "blue_bike = Bike('Blue', 'Steel')"
      ],
      "metadata": {
        "id": "Kb-kzRCAUaWc"
      },
      "execution_count": null,
      "outputs": []
    },
    {
      "cell_type": "code",
      "source": [
        "red_bike.colour,  red_bike.frame_material,  blue_bike.colour,  blue_bike.frame_material"
      ],
      "metadata": {
        "colab": {
          "base_uri": "https://localhost:8080/"
        },
        "id": "igREwgebUc2o",
        "outputId": "ea6ce990-8b93-4c37-b61a-df26557de417"
      },
      "execution_count": null,
      "outputs": [
        {
          "output_type": "execute_result",
          "data": {
            "text/plain": [
              "('Red', 'Carbon fiber', 'Blue', 'Steel')"
            ]
          },
          "metadata": {},
          "execution_count": 29
        }
      ]
    },
    {
      "cell_type": "code",
      "source": [
        "red_bike.brake()"
      ],
      "metadata": {
        "colab": {
          "base_uri": "https://localhost:8080/"
        },
        "id": "mAVouR81UwzT",
        "outputId": "ce2cfc7d-94c2-4a25-c40f-01fc3473b415"
      },
      "execution_count": null,
      "outputs": [
        {
          "output_type": "stream",
          "name": "stdout",
          "text": [
            "Braking!\n"
          ]
        }
      ]
    },
    {
      "cell_type": "markdown",
      "source": [
        "# Python culture\n",
        "---"
      ],
      "metadata": {
        "id": "3eL5e1e1UyCe"
      }
    },
    {
      "cell_type": "code",
      "source": [
        "import this"
      ],
      "metadata": {
        "colab": {
          "base_uri": "https://localhost:8080/"
        },
        "id": "-rzl_OVaU2KJ",
        "outputId": "508b7188-b1ef-4f01-e933-3325bb6b7550"
      },
      "execution_count": null,
      "outputs": [
        {
          "output_type": "stream",
          "name": "stdout",
          "text": [
            "The Zen of Python, by Tim Peters\n",
            "\n",
            "Beautiful is better than ugly.\n",
            "Explicit is better than implicit.\n",
            "Simple is better than complex.\n",
            "Complex is better than complicated.\n",
            "Flat is better than nested.\n",
            "Sparse is better than dense.\n",
            "Readability counts.\n",
            "Special cases aren't special enough to break the rules.\n",
            "Although practicality beats purity.\n",
            "Errors should never pass silently.\n",
            "Unless explicitly silenced.\n",
            "In the face of ambiguity, refuse the temptation to guess.\n",
            "There should be one-- and preferably only one --obvious way to do it.\n",
            "Although that way may not be obvious at first unless you're Dutch.\n",
            "Now is better than never.\n",
            "Although never is often better than *right* now.\n",
            "If the implementation is hard to explain, it's a bad idea.\n",
            "If the implementation is easy to explain, it may be a good idea.\n",
            "Namespaces are one honking great idea -- let's do more of those!\n"
          ]
        }
      ]
    },
    {
      "cell_type": "markdown",
      "source": [
        "# Mutable or immutable?\n",
        "---"
      ],
      "metadata": {
        "id": "0sq6gWywU-XM"
      }
    },
    {
      "cell_type": "code",
      "source": [
        "age = 42"
      ],
      "metadata": {
        "id": "rDblyPuuVAp_"
      },
      "execution_count": null,
      "outputs": []
    },
    {
      "cell_type": "code",
      "source": [
        "age"
      ],
      "metadata": {
        "colab": {
          "base_uri": "https://localhost:8080/"
        },
        "id": "lVMSlTaBVDFS",
        "outputId": "eac1905c-c7b9-4983-97a6-e3977a02d573"
      },
      "execution_count": null,
      "outputs": [
        {
          "output_type": "execute_result",
          "data": {
            "text/plain": [
              "42"
            ]
          },
          "metadata": {},
          "execution_count": 38
        }
      ]
    },
    {
      "cell_type": "code",
      "source": [
        "id(age)"
      ],
      "metadata": {
        "colab": {
          "base_uri": "https://localhost:8080/"
        },
        "id": "r4JvXZWtVPmc",
        "outputId": "f0ebeff7-c8fa-4d17-9a6a-3fb2d0de8841"
      },
      "execution_count": null,
      "outputs": [
        {
          "output_type": "execute_result",
          "data": {
            "text/plain": [
              "137887116183056"
            ]
          },
          "metadata": {},
          "execution_count": 39
        }
      ]
    },
    {
      "cell_type": "code",
      "source": [
        "age = 43"
      ],
      "metadata": {
        "id": "j1uTf1LPVFQB"
      },
      "execution_count": null,
      "outputs": []
    },
    {
      "cell_type": "code",
      "source": [
        "age"
      ],
      "metadata": {
        "colab": {
          "base_uri": "https://localhost:8080/"
        },
        "id": "9gu7eBhZVMYo",
        "outputId": "9b82662e-63a7-4840-e89c-06ad59741a32"
      },
      "execution_count": null,
      "outputs": [
        {
          "output_type": "execute_result",
          "data": {
            "text/plain": [
              "43"
            ]
          },
          "metadata": {},
          "execution_count": 41
        }
      ]
    },
    {
      "cell_type": "code",
      "source": [
        "id(age)"
      ],
      "metadata": {
        "colab": {
          "base_uri": "https://localhost:8080/"
        },
        "id": "gRQ5hYxrVTMX",
        "outputId": "4c77ca89-90a7-4351-b7ce-ad8ad66a2b88"
      },
      "execution_count": null,
      "outputs": [
        {
          "output_type": "execute_result",
          "data": {
            "text/plain": [
              "137887116183088"
            ]
          },
          "metadata": {},
          "execution_count": 42
        }
      ]
    },
    {
      "cell_type": "code",
      "source": [
        "class Person:\n",
        "    def __init__(self, age):\n",
        "      self.age = age"
      ],
      "metadata": {
        "id": "mdh3qWRBVW9m"
      },
      "execution_count": null,
      "outputs": []
    },
    {
      "cell_type": "code",
      "source": [
        "fab = Person(age=42)"
      ],
      "metadata": {
        "id": "RRmF7biHVaKg"
      },
      "execution_count": null,
      "outputs": []
    },
    {
      "cell_type": "code",
      "source": [
        "fab.age"
      ],
      "metadata": {
        "colab": {
          "base_uri": "https://localhost:8080/"
        },
        "id": "nS0eksLtVc2T",
        "outputId": "f4629c61-5b7f-4d6b-ef37-ba043be314d8"
      },
      "execution_count": null,
      "outputs": [
        {
          "output_type": "execute_result",
          "data": {
            "text/plain": [
              "42"
            ]
          },
          "metadata": {},
          "execution_count": 46
        }
      ]
    },
    {
      "cell_type": "code",
      "source": [
        "id(fab)"
      ],
      "metadata": {
        "colab": {
          "base_uri": "https://localhost:8080/"
        },
        "id": "2983bP3kVfSz",
        "outputId": "da8030a6-73b2-4d69-df02-56293795aa94"
      },
      "execution_count": null,
      "outputs": [
        {
          "output_type": "execute_result",
          "data": {
            "text/plain": [
              "137886203088032"
            ]
          },
          "metadata": {},
          "execution_count": 47
        }
      ]
    },
    {
      "cell_type": "code",
      "source": [
        "id(fab.age)"
      ],
      "metadata": {
        "colab": {
          "base_uri": "https://localhost:8080/"
        },
        "id": "n41xdr54Vge4",
        "outputId": "83a930c2-1c33-4464-c7d9-9e16f597af14"
      },
      "execution_count": null,
      "outputs": [
        {
          "output_type": "execute_result",
          "data": {
            "text/plain": [
              "137887116183056"
            ]
          },
          "metadata": {},
          "execution_count": 48
        }
      ]
    },
    {
      "cell_type": "code",
      "source": [
        "fab.age = 25"
      ],
      "metadata": {
        "id": "LZz5tX5RVjlU"
      },
      "execution_count": null,
      "outputs": []
    },
    {
      "cell_type": "code",
      "source": [
        "id(fab)"
      ],
      "metadata": {
        "colab": {
          "base_uri": "https://localhost:8080/"
        },
        "id": "vcxNctxxVlYv",
        "outputId": "942a06fa-462a-4e6f-b572-4b124fa3d263"
      },
      "execution_count": null,
      "outputs": [
        {
          "output_type": "execute_result",
          "data": {
            "text/plain": [
              "137886203088032"
            ]
          },
          "metadata": {},
          "execution_count": 50
        }
      ]
    },
    {
      "cell_type": "code",
      "source": [
        "id(fab.age)"
      ],
      "metadata": {
        "colab": {
          "base_uri": "https://localhost:8080/"
        },
        "id": "2tf4Wtq9Vm2S",
        "outputId": "5b2e9496-d41a-4593-e1c8-a8ed9bd78474"
      },
      "execution_count": null,
      "outputs": [
        {
          "output_type": "execute_result",
          "data": {
            "text/plain": [
              "137887116182512"
            ]
          },
          "metadata": {},
          "execution_count": 51
        }
      ]
    },
    {
      "cell_type": "markdown",
      "source": [
        "# Numbers\n",
        "---"
      ],
      "metadata": {
        "id": "PKQtpIE3VrXn"
      }
    },
    {
      "cell_type": "markdown",
      "source": [
        "integers"
      ],
      "metadata": {
        "id": "3WCCOO-qVvxN"
      }
    },
    {
      "cell_type": "code",
      "source": [
        "a = 14"
      ],
      "metadata": {
        "id": "_2ve4hDNVxjp"
      },
      "execution_count": null,
      "outputs": []
    },
    {
      "cell_type": "code",
      "source": [
        "b = 3"
      ],
      "metadata": {
        "id": "yB8YNsz8V0EB"
      },
      "execution_count": null,
      "outputs": []
    },
    {
      "cell_type": "code",
      "source": [
        "a + b # addition"
      ],
      "metadata": {
        "colab": {
          "base_uri": "https://localhost:8080/"
        },
        "id": "nXcFXhW4V0Z1",
        "outputId": "360a785a-e41d-4360-9c97-a6ae8004efc3"
      },
      "execution_count": null,
      "outputs": [
        {
          "output_type": "execute_result",
          "data": {
            "text/plain": [
              "17"
            ]
          },
          "metadata": {},
          "execution_count": 54
        }
      ]
    },
    {
      "cell_type": "code",
      "source": [
        "a - b # subtraction"
      ],
      "metadata": {
        "colab": {
          "base_uri": "https://localhost:8080/"
        },
        "id": "yxBeklSEV2QQ",
        "outputId": "03ee5422-e153-4c87-8693-3b31cf724293"
      },
      "execution_count": null,
      "outputs": [
        {
          "output_type": "execute_result",
          "data": {
            "text/plain": [
              "11"
            ]
          },
          "metadata": {},
          "execution_count": 56
        }
      ]
    },
    {
      "cell_type": "code",
      "source": [
        "a * b # multiplication"
      ],
      "metadata": {
        "colab": {
          "base_uri": "https://localhost:8080/"
        },
        "id": "AdNmVlnLV6T3",
        "outputId": "f3bed290-0d71-4e27-e29b-44984401ca35"
      },
      "execution_count": null,
      "outputs": [
        {
          "output_type": "execute_result",
          "data": {
            "text/plain": [
              "42"
            ]
          },
          "metadata": {},
          "execution_count": 57
        }
      ]
    },
    {
      "cell_type": "code",
      "source": [
        "a / b # true division"
      ],
      "metadata": {
        "colab": {
          "base_uri": "https://localhost:8080/"
        },
        "id": "iczPqLo6V6fx",
        "outputId": "8624c90e-da23-4e44-f392-8ea7d1b63a67"
      },
      "execution_count": null,
      "outputs": [
        {
          "output_type": "execute_result",
          "data": {
            "text/plain": [
              "4.666666666666667"
            ]
          },
          "metadata": {},
          "execution_count": 58
        }
      ]
    },
    {
      "cell_type": "code",
      "source": [
        "a // b # integer division"
      ],
      "metadata": {
        "colab": {
          "base_uri": "https://localhost:8080/"
        },
        "id": "e9A_6Vt1V-d5",
        "outputId": "2c223cc8-b2e0-4157-e835-204f159fdb0b"
      },
      "execution_count": null,
      "outputs": [
        {
          "output_type": "execute_result",
          "data": {
            "text/plain": [
              "4"
            ]
          },
          "metadata": {},
          "execution_count": 59
        }
      ]
    },
    {
      "cell_type": "code",
      "source": [
        "a % b # modulo operation (reminder of division)"
      ],
      "metadata": {
        "colab": {
          "base_uri": "https://localhost:8080/"
        },
        "id": "Lp7aAMcoWBMG",
        "outputId": "86408295-1893-472a-8734-5cb4fcac3659"
      },
      "execution_count": null,
      "outputs": [
        {
          "output_type": "execute_result",
          "data": {
            "text/plain": [
              "2"
            ]
          },
          "metadata": {},
          "execution_count": 60
        }
      ]
    },
    {
      "cell_type": "code",
      "source": [
        "a ** b # power operation"
      ],
      "metadata": {
        "colab": {
          "base_uri": "https://localhost:8080/"
        },
        "id": "HjeiSRL5WBxI",
        "outputId": "635c793f-fc09-4fd3-98bc-d761228f9642"
      },
      "execution_count": null,
      "outputs": [
        {
          "output_type": "execute_result",
          "data": {
            "text/plain": [
              "2744"
            ]
          },
          "metadata": {},
          "execution_count": 61
        }
      ]
    },
    {
      "cell_type": "code",
      "source": [],
      "metadata": {
        "id": "PJOj2TF4Wk2n"
      },
      "execution_count": null,
      "outputs": []
    }
  ]
}